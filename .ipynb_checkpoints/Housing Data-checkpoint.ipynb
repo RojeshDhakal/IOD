{
 "cells": [
  {
   "cell_type": "code",
   "execution_count": 11,
   "id": "bec229e1",
   "metadata": {},
   "outputs": [],
   "source": [
    "import pandas as pd\n",
    "pd.options.display.max_rows = 9999"
   ]
  },
  {
   "cell_type": "code",
   "execution_count": 2,
   "id": "d4581d9a",
   "metadata": {},
   "outputs": [],
   "source": [
    "df= pd.read_csv('Data/housing-data.csv')"
   ]
  },
  {
   "cell_type": "code",
   "execution_count": 3,
   "id": "4d0bba28",
   "metadata": {},
   "outputs": [
    {
     "data": {
      "text/html": [
       "<div>\n",
       "<style scoped>\n",
       "    .dataframe tbody tr th:only-of-type {\n",
       "        vertical-align: middle;\n",
       "    }\n",
       "\n",
       "    .dataframe tbody tr th {\n",
       "        vertical-align: top;\n",
       "    }\n",
       "\n",
       "    .dataframe thead th {\n",
       "        text-align: right;\n",
       "    }\n",
       "</style>\n",
       "<table border=\"1\" class=\"dataframe\">\n",
       "  <thead>\n",
       "    <tr style=\"text-align: right;\">\n",
       "      <th></th>\n",
       "      <th>sqft</th>\n",
       "      <th>bdrms</th>\n",
       "      <th>age</th>\n",
       "      <th>price</th>\n",
       "    </tr>\n",
       "  </thead>\n",
       "  <tbody>\n",
       "    <tr>\n",
       "      <th>0</th>\n",
       "      <td>2104</td>\n",
       "      <td>3</td>\n",
       "      <td>70</td>\n",
       "      <td>399900</td>\n",
       "    </tr>\n",
       "    <tr>\n",
       "      <th>1</th>\n",
       "      <td>1600</td>\n",
       "      <td>3</td>\n",
       "      <td>28</td>\n",
       "      <td>329900</td>\n",
       "    </tr>\n",
       "    <tr>\n",
       "      <th>2</th>\n",
       "      <td>2400</td>\n",
       "      <td>3</td>\n",
       "      <td>44</td>\n",
       "      <td>369000</td>\n",
       "    </tr>\n",
       "    <tr>\n",
       "      <th>3</th>\n",
       "      <td>1416</td>\n",
       "      <td>2</td>\n",
       "      <td>49</td>\n",
       "      <td>232000</td>\n",
       "    </tr>\n",
       "    <tr>\n",
       "      <th>4</th>\n",
       "      <td>3000</td>\n",
       "      <td>4</td>\n",
       "      <td>75</td>\n",
       "      <td>539900</td>\n",
       "    </tr>\n",
       "  </tbody>\n",
       "</table>\n",
       "</div>"
      ],
      "text/plain": [
       "   sqft  bdrms  age   price\n",
       "0  2104      3   70  399900\n",
       "1  1600      3   28  329900\n",
       "2  2400      3   44  369000\n",
       "3  1416      2   49  232000\n",
       "4  3000      4   75  539900"
      ]
     },
     "execution_count": 3,
     "metadata": {},
     "output_type": "execute_result"
    }
   ],
   "source": [
    "df.head()"
   ]
  },
  {
   "cell_type": "code",
   "execution_count": 8,
   "id": "b2564aca",
   "metadata": {
    "scrolled": false
   },
   "outputs": [
    {
     "name": "stdout",
     "output_type": "stream",
     "text": [
      "<class 'pandas.core.frame.DataFrame'>\n",
      "RangeIndex: 47 entries, 0 to 46\n",
      "Data columns (total 4 columns):\n",
      " #   Column  Non-Null Count  Dtype\n",
      "---  ------  --------------  -----\n",
      " 0   sqft    47 non-null     int64\n",
      " 1   bdrms   47 non-null     int64\n",
      " 2   age     47 non-null     int64\n",
      " 3   price   47 non-null     int64\n",
      "dtypes: int64(4)\n",
      "memory usage: 1.6 KB\n"
     ]
    }
   ],
   "source": [
    "df.info()\n"
   ]
  },
  {
   "cell_type": "code",
   "execution_count": 14,
   "id": "a99ec1d2",
   "metadata": {},
   "outputs": [
    {
     "name": "stdout",
     "output_type": "stream",
     "text": [
      "    sqft  bdrms  age   price\n",
      "42  2567      4   57  314000\n",
      "43  1200      3   76  299000\n",
      "44   852      2   70  179900\n",
      "45  1852      4   64  299900\n",
      "46  1203      3   11  239500\n"
     ]
    }
   ],
   "source": [
    "print(df.tail())"
   ]
  },
  {
   "cell_type": "code",
   "execution_count": 6,
   "id": "1a78eb3c",
   "metadata": {},
   "outputs": [
    {
     "data": {
      "text/plain": [
       "(47, 4)"
      ]
     },
     "execution_count": 6,
     "metadata": {},
     "output_type": "execute_result"
    }
   ],
   "source": [
    "df.shape"
   ]
  },
  {
   "cell_type": "markdown",
   "id": "ec2dd301",
   "metadata": {},
   "source": []
  },
  {
   "cell_type": "code",
   "execution_count": 9,
   "id": "b52c0efb",
   "metadata": {},
   "outputs": [
    {
     "name": "stdout",
     "output_type": "stream",
     "text": [
      "    sqft  bdrms  age   price\n",
      "0   2104      3   70  399900\n",
      "1   1600      3   28  329900\n",
      "2   2400      3   44  369000\n",
      "3   1416      2   49  232000\n",
      "4   3000      4   75  539900\n",
      "5   1985      4   61  299900\n",
      "6   1534      3   12  314900\n",
      "7   1427      3   57  198999\n",
      "8   1380      3   14  212000\n",
      "9   1494      3   15  242500\n",
      "10  1940      4    7  239999\n",
      "11  2000      3   27  347000\n",
      "12  1890      3   45  329999\n",
      "13  4478      5   49  699900\n",
      "14  1268      3   58  259900\n",
      "15  2300      4   77  449900\n",
      "16  1320      2   62  299900\n",
      "17  1236      3   78  199900\n",
      "18  2609      4    5  499998\n",
      "19  3031      4   21  599000\n",
      "20  1767      3   44  252900\n",
      "21  1888      2   79  255000\n",
      "22  1604      3   13  242900\n",
      "23  1962      4   53  259900\n",
      "24  3890      3   36  573900\n",
      "25  1100      3   60  249900\n",
      "26  1458      3   29  464500\n",
      "27  2526      3   13  469000\n",
      "28  2200      3   28  475000\n",
      "29  2637      3   25  299900\n",
      "30  1839      2   40  349900\n",
      "31  1000      1    5  169900\n",
      "32  2040      4   75  314900\n",
      "33  3137      3   67  579900\n",
      "34  1811      4   24  285900\n",
      "35  1437      3   50  249900\n",
      "36  1239      3   22  229900\n",
      "37  2132      4   28  345000\n",
      "38  4215      4   66  549000\n",
      "39  2162      4   43  287000\n",
      "40  1664      2   40  368500\n",
      "41  2238      3   37  329900\n",
      "42  2567      4   57  314000\n",
      "43  1200      3   76  299000\n",
      "44   852      2   70  179900\n",
      "45  1852      4   64  299900\n",
      "46  1203      3   11  239500\n"
     ]
    }
   ],
   "source": [
    "print(df.to_string())\n"
   ]
  },
  {
   "cell_type": "code",
   "execution_count": 10,
   "id": "4c3c295f",
   "metadata": {},
   "outputs": [
    {
     "name": "stdout",
     "output_type": "stream",
     "text": [
      "    sqft  bdrms  age   price\n",
      "0   2104      3   70  399900\n",
      "1   1600      3   28  329900\n",
      "2   2400      3   44  369000\n",
      "3   1416      2   49  232000\n",
      "4   3000      4   75  539900\n",
      "5   1985      4   61  299900\n",
      "6   1534      3   12  314900\n",
      "7   1427      3   57  198999\n",
      "8   1380      3   14  212000\n",
      "9   1494      3   15  242500\n",
      "10  1940      4    7  239999\n",
      "11  2000      3   27  347000\n",
      "12  1890      3   45  329999\n",
      "13  4478      5   49  699900\n",
      "14  1268      3   58  259900\n",
      "15  2300      4   77  449900\n",
      "16  1320      2   62  299900\n",
      "17  1236      3   78  199900\n",
      "18  2609      4    5  499998\n",
      "19  3031      4   21  599000\n",
      "20  1767      3   44  252900\n",
      "21  1888      2   79  255000\n",
      "22  1604      3   13  242900\n",
      "23  1962      4   53  259900\n",
      "24  3890      3   36  573900\n",
      "25  1100      3   60  249900\n",
      "26  1458      3   29  464500\n",
      "27  2526      3   13  469000\n",
      "28  2200      3   28  475000\n",
      "29  2637      3   25  299900\n",
      "30  1839      2   40  349900\n",
      "31  1000      1    5  169900\n",
      "32  2040      4   75  314900\n",
      "33  3137      3   67  579900\n",
      "34  1811      4   24  285900\n",
      "35  1437      3   50  249900\n",
      "36  1239      3   22  229900\n",
      "37  2132      4   28  345000\n",
      "38  4215      4   66  549000\n",
      "39  2162      4   43  287000\n",
      "40  1664      2   40  368500\n",
      "41  2238      3   37  329900\n",
      "42  2567      4   57  314000\n",
      "43  1200      3   76  299000\n",
      "44   852      2   70  179900\n",
      "45  1852      4   64  299900\n",
      "46  1203      3   11  239500\n"
     ]
    }
   ],
   "source": [
    "new_df = df.dropna()\n",
    "print(new_df.to_string())"
   ]
  },
  {
   "cell_type": "code",
   "execution_count": null,
   "id": "f6f1669e",
   "metadata": {},
   "outputs": [],
   "source": []
  }
 ],
 "metadata": {
  "kernelspec": {
   "display_name": "Python 3 (ipykernel)",
   "language": "python",
   "name": "python3"
  },
  "language_info": {
   "codemirror_mode": {
    "name": "ipython",
    "version": 3
   },
   "file_extension": ".py",
   "mimetype": "text/x-python",
   "name": "python",
   "nbconvert_exporter": "python",
   "pygments_lexer": "ipython3",
   "version": "3.9.13"
  }
 },
 "nbformat": 4,
 "nbformat_minor": 5
}
