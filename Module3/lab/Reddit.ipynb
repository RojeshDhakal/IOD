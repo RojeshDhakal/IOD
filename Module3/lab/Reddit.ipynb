{
 "cells": [
  {
   "cell_type": "code",
   "execution_count": 8,
   "id": "593f1bfc-a9bf-4af4-b470-7d31a45dd648",
   "metadata": {
    "collapsed": true,
    "jupyter": {
     "outputs_hidden": true
    },
    "tags": []
   },
   "outputs": [
    {
     "name": "stdout",
     "output_type": "stream",
     "text": [
      "Collecting praw\n",
      "  Downloading praw-7.6.1-py3-none-any.whl (188 kB)\n",
      "     -------------------------------------- 188.8/188.8 kB 5.8 MB/s eta 0:00:00\n",
      "Collecting prawcore<3,>=2.1\n",
      "  Downloading prawcore-2.3.0-py3-none-any.whl (16 kB)\n",
      "Collecting update-checker>=0.18\n",
      "  Downloading update_checker-0.18.0-py3-none-any.whl (7.0 kB)\n",
      "Requirement already satisfied: websocket-client>=0.54.0 in c:\\users\\user\\anaconda3\\lib\\site-packages (from praw) (0.58.0)\n",
      "Requirement already satisfied: requests<3.0,>=2.6.0 in c:\\users\\user\\anaconda3\\lib\\site-packages (from prawcore<3,>=2.1->praw) (2.28.1)\n",
      "Requirement already satisfied: six in c:\\users\\user\\anaconda3\\lib\\site-packages (from websocket-client>=0.54.0->praw) (1.16.0)\n",
      "Requirement already satisfied: charset-normalizer<3,>=2 in c:\\users\\user\\anaconda3\\lib\\site-packages (from requests<3.0,>=2.6.0->prawcore<3,>=2.1->praw) (2.0.4)\n",
      "Requirement already satisfied: idna<4,>=2.5 in c:\\users\\user\\anaconda3\\lib\\site-packages (from requests<3.0,>=2.6.0->prawcore<3,>=2.1->praw) (3.3)\n",
      "Requirement already satisfied: certifi>=2017.4.17 in c:\\users\\user\\anaconda3\\lib\\site-packages (from requests<3.0,>=2.6.0->prawcore<3,>=2.1->praw) (2022.12.7)\n",
      "Requirement already satisfied: urllib3<1.27,>=1.21.1 in c:\\users\\user\\anaconda3\\lib\\site-packages (from requests<3.0,>=2.6.0->prawcore<3,>=2.1->praw) (1.26.11)\n",
      "Installing collected packages: update-checker, prawcore, praw\n",
      "Successfully installed praw-7.6.1 prawcore-2.3.0 update-checker-0.18.0\n"
     ]
    },
    {
     "name": "stderr",
     "output_type": "stream",
     "text": [
      "WARNING: Ignoring invalid distribution -tatsmodels (c:\\users\\user\\anaconda3\\lib\\site-packages)\n",
      "WARNING: Ignoring invalid distribution -tatsmodels (c:\\users\\user\\anaconda3\\lib\\site-packages)\n",
      "WARNING: Ignoring invalid distribution -tatsmodels (c:\\users\\user\\anaconda3\\lib\\site-packages)\n",
      "WARNING: Ignoring invalid distribution -tatsmodels (c:\\users\\user\\anaconda3\\lib\\site-packages)\n",
      "WARNING: Ignoring invalid distribution -tatsmodels (c:\\users\\user\\anaconda3\\lib\\site-packages)\n",
      "WARNING: Ignoring invalid distribution -tatsmodels (c:\\users\\user\\anaconda3\\lib\\site-packages)\n",
      "WARNING: Ignoring invalid distribution -tatsmodels (c:\\users\\user\\anaconda3\\lib\\site-packages)\n",
      "WARNING: Ignoring invalid distribution -tatsmodels (c:\\users\\user\\anaconda3\\lib\\site-packages)\n",
      "WARNING: Ignoring invalid distribution -tatsmodels (c:\\users\\user\\anaconda3\\lib\\site-packages)\n"
     ]
    }
   ],
   "source": [
    "!pip install praw"
   ]
  },
  {
   "cell_type": "code",
   "execution_count": 1,
   "id": "8f77452c-172e-47e9-9faa-55e801390f6d",
   "metadata": {},
   "outputs": [],
   "source": [
    "import praw\n",
    "import pandas as pd"
   ]
  },
  {
   "cell_type": "code",
   "execution_count": 8,
   "id": "aa511161-349f-425a-ba3a-c5c18f9f66e7",
   "metadata": {},
   "outputs": [],
   "source": [
    "reddit= praw.Reddit(\n",
    "    client_id= 'Ejqla7ZFYEgJZqULhNbTwQ',\n",
    "    client_secret= 'OIIbMuxbzyRO5RP6_3outNM_kYE8sA',\n",
    "    user_agent= 'Mozilla/5.0 (Windows NT 10.0; Win64; x64) AppleWebKit/537.36 (KHTML, like Gecko) Chrome/110.0.0.0 Safari/537.36')"
   ]
  },
  {
   "cell_type": "code",
   "execution_count": 9,
   "id": "21b9ec40-6725-413e-b5a7-26d243a3401e",
   "metadata": {},
   "outputs": [
    {
     "name": "stdout",
     "output_type": "stream",
     "text": [
      "True\n"
     ]
    }
   ],
   "source": [
    "print(reddit.read_only)"
   ]
  },
  {
   "cell_type": "code",
   "execution_count": 10,
   "id": "53c41de7-29c7-4c9b-948b-89fe86da8e28",
   "metadata": {},
   "outputs": [
    {
     "name": "stdout",
     "output_type": "stream",
     "text": [
      "Ask Anything Monday - Weekly Thread\n",
      "Python code is less numerically accurate than MATLAB equivalent\n",
      "I've created a Senior Python Developer roadmap\n",
      "3 weeks into learning Python solved my first 6 kata codewars! Very proud of my self even though my code was very long compared to the best answer. As part of my learning it would be amazing if someone could review my code and let me know if I am following best principles or not?\n",
      "Have difficulty understanding recursion\n",
      "Is there a way to get the number of frames in a .gif?\n",
      "Python Crash Course Exercise confusion\n",
      "Help on only allowing unique strings into a list.\n",
      "New to python why can’t it find my downloaded libraries\n",
      "Python Help\n"
     ]
    }
   ],
   "source": [
    "for submission in reddit.subreddit('learnpython').hot(limit=10):\n",
    "    print(submission.title)"
   ]
  },
  {
   "cell_type": "code",
   "execution_count": 11,
   "id": "455a466f-fa87-4cdf-9d94-498ebc5b230a",
   "metadata": {},
   "outputs": [],
   "source": [
    "subreddit= reddit.subreddit('learnpython')"
   ]
  },
  {
   "cell_type": "code",
   "execution_count": 12,
   "id": "16ffad37-5e6a-459d-8c33-5946c4342ca0",
   "metadata": {},
   "outputs": [
    {
     "name": "stdout",
     "output_type": "stream",
     "text": [
      "learnpython\n"
     ]
    }
   ],
   "source": [
    "print(subreddit.display_name)"
   ]
  },
  {
   "cell_type": "code",
   "execution_count": 18,
   "id": "1df21724-fdcd-4eb5-b142-f45dec1bd2f6",
   "metadata": {},
   "outputs": [
    {
     "name": "stdout",
     "output_type": "stream",
     "text": [
      "Python Education\n"
     ]
    }
   ],
   "source": [
    "print(subreddit.title)"
   ]
  },
  {
   "cell_type": "code",
   "execution_count": 17,
   "id": "dc8c675f-71d8-464d-8b51-ed2549d58e6c",
   "metadata": {},
   "outputs": [
    {
     "name": "stdout",
     "output_type": "stream",
     "text": [
      "*****************************\n",
      "\n",
      "> [**Rules**](#icon-information)\n",
      "> \n",
      "> 1: Be polite\n",
      "\n",
      "> 2: Posts to this subreddit must be requests for help learning python.\n",
      "\n",
      "> 3: Replies on this subreddit must be pertinent to the question OP asked. \n",
      "\n",
      "> 4: No replies copy / pasted from ChatGPT or similar.  \n",
      "\n",
      "> 5: No advertising. No blogs/tutorials/videos/books/recruiting attempts.\n",
      "\n",
      "> This means no posts advertising blogs/videos/tutorials/etc, no recruiting/hiring/seeking others posts. We're here to help, not to be advertised to. \n",
      "\n",
      "> Please, no \"hit and run\" posts, if you make a post, engage with people that answer you. Please do not delete your post after you get an answer, others might have a similar question or want to continue the conversation.\n",
      "\n",
      "*****************************\n",
      "\n",
      "> [**Learning resources**](#icon-information)\n",
      "\n",
      "> Wiki and FAQ: [/r/learnpython/w/index](http://www.reddit.com/r/learnpython/wiki/index)\n",
      "\n",
      "*****************************\n",
      "\n",
      "> [**Discord**](#icon-comments)\n",
      "\n",
      "> [Join the Python Discord chat](https://discord.gg/python)\n"
     ]
    }
   ],
   "source": [
    "print(subreddit.description)"
   ]
  },
  {
   "cell_type": "code",
   "execution_count": 23,
   "id": "c3d54064-a4da-44c6-9fdf-716e15e7013d",
   "metadata": {},
   "outputs": [],
   "source": [
    "top_posts=(subreddit.top(limit=10))"
   ]
  },
  {
   "cell_type": "code",
   "execution_count": 24,
   "id": "cace8257-aa19-46ea-9e4b-93ac81e15ad5",
   "metadata": {},
   "outputs": [
    {
     "name": "stdout",
     "output_type": "stream",
     "text": [
      "I'm 100% self taught, landed my first job! My experience!\n",
      "I solved a real life problem with python for the 1st time and I feel like a wizard\n",
      "The online course for \"Automate the Boring Stuff with Python\" is free to sign up this week.\n",
      "As a Gift to the Community, I'm Making my Python Book Free for 72 hours!\n",
      "\"Automate the Boring Stuff with Python\" Udemy course free to sign up until May 7th.\n",
      "After 5 years of learning Python as a hobby, yesterday I did my first contribution to an open source project!\n",
      "Just saved my company like $40 Grand a Year and I have no one else in my life that codes to tell, apart from my wife of course\n",
      "\"Automate the Boring Stuff with Python\" online course is free to sign up for the next few days with code JUN2020FREE\n",
      "Automate the Boring Stuff with Python Udemy course free to sign up until April 7th.\n",
      "Beginner's Python Cheat Sheets (updated)\n"
     ]
    }
   ],
   "source": [
    "for post in top_posts:\n",
    "    print(post.title)"
   ]
  },
  {
   "cell_type": "code",
   "execution_count": 47,
   "id": "24cb30ff-f6d5-467e-b916-dfae6adb10af",
   "metadata": {},
   "outputs": [],
   "source": [
    "new_posts = subreddit.new(limit=10)"
   ]
  },
  {
   "cell_type": "code",
   "execution_count": 48,
   "id": "2cb9e720-ae7f-4b15-8261-735e2b1879f2",
   "metadata": {},
   "outputs": [
    {
     "name": "stdout",
     "output_type": "stream",
     "text": [
      "Mockup generator: Is this doable with PIL + Django?\n",
      "Need Help Knowing Where I've Went Wrong [Beginner roulette code]\n",
      "Is there a way to get the number of frames in a .gif?\n",
      "I've created a Senior Python Developer roadmap\n",
      "Have difficulty understanding recursion\n",
      "New to python why can’t it find my downloaded libraries\n",
      "Python Help\n",
      "Help Transforming Data\n",
      "hi im looking to learn how to make this or someone make this for me\n",
      "How do i make a save in python that will keep data even after a page refresh\n"
     ]
    }
   ],
   "source": [
    "for post in new_posts:\n",
    "    print(post.title)"
   ]
  },
  {
   "cell_type": "code",
   "execution_count": 50,
   "id": "8b651f68-8cb6-497e-b0ff-1050ad430ce0",
   "metadata": {},
   "outputs": [],
   "source": [
    "new_posts = subreddit.new(limit=10)"
   ]
  },
  {
   "cell_type": "code",
   "execution_count": 51,
   "id": "5e0d4cb6-7e88-4440-bd0a-1bd6f215e591",
   "metadata": {},
   "outputs": [
    {
     "name": "stdout",
     "output_type": "stream",
     "text": [
      "lrning2code\n",
      "Different_Hunt9319\n",
      "Automatic_Month_21\n",
      "dru1dic\n",
      "pro1code1hack\n",
      "fazedphase\n",
      "CurvyAura2\n",
      "_KD6-37_\n",
      "InevitableHead6235\n",
      "jordan_7188\n"
     ]
    }
   ],
   "source": [
    "for post in new_posts:\n",
    "    print(post.author)"
   ]
  },
  {
   "cell_type": "code",
   "execution_count": 36,
   "id": "3dbdaee9-21c2-401c-b2ed-de4cc5bec073",
   "metadata": {},
   "outputs": [
    {
     "data": {
      "text/plain": [
       "1"
      ]
     },
     "execution_count": 36,
     "metadata": {},
     "output_type": "execute_result"
    }
   ],
   "source": [
    "post.score"
   ]
  },
  {
   "cell_type": "code",
   "execution_count": null,
   "id": "f370068d-4948-4018-a9b5-23602636f580",
   "metadata": {},
   "outputs": [],
   "source": []
  }
 ],
 "metadata": {
  "kernelspec": {
   "display_name": "Python 3 (ipykernel)",
   "language": "python",
   "name": "python3"
  },
  "language_info": {
   "codemirror_mode": {
    "name": "ipython",
    "version": 3
   },
   "file_extension": ".py",
   "mimetype": "text/x-python",
   "name": "python",
   "nbconvert_exporter": "python",
   "pygments_lexer": "ipython3",
   "version": "3.9.13"
  }
 },
 "nbformat": 4,
 "nbformat_minor": 5
}
