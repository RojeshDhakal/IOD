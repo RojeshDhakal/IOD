{
 "cells": [
  {
   "cell_type": "code",
   "execution_count": 1,
   "id": "8a27b513-4496-46d8-a1a5-92e1e100286e",
   "metadata": {},
   "outputs": [],
   "source": [
    "import pandas as pd\n",
    "import numpy as np\n",
    "import matplotlib.pyplot as plt\n",
    "import seaborn as sns\n",
    "%matplotlib inline"
   ]
  },
  {
   "cell_type": "code",
   "execution_count": 3,
   "id": "cd13858b-2f19-4f7a-b326-6b0fa08bcb6b",
   "metadata": {},
   "outputs": [],
   "source": [
    "data=pd.read_csv('inflation interest unemployment.csv')"
   ]
  },
  {
   "cell_type": "code",
   "execution_count": 4,
   "id": "19b0c931-08c9-4667-8f46-e814cf4ee099",
   "metadata": {},
   "outputs": [
    {
     "data": {
      "text/html": [
       "<div>\n",
       "<style scoped>\n",
       "    .dataframe tbody tr th:only-of-type {\n",
       "        vertical-align: middle;\n",
       "    }\n",
       "\n",
       "    .dataframe tbody tr th {\n",
       "        vertical-align: top;\n",
       "    }\n",
       "\n",
       "    .dataframe thead th {\n",
       "        text-align: right;\n",
       "    }\n",
       "</style>\n",
       "<table border=\"1\" class=\"dataframe\">\n",
       "  <thead>\n",
       "    <tr style=\"text-align: right;\">\n",
       "      <th></th>\n",
       "      <th>country</th>\n",
       "      <th>year</th>\n",
       "      <th>Inflation, consumer prices (annual %)</th>\n",
       "      <th>Inflation, GDP deflator (annual %)</th>\n",
       "      <th>Real interest rate (%)</th>\n",
       "      <th>Deposit interest rate (%)</th>\n",
       "      <th>Lending interest rate (%)</th>\n",
       "      <th>Unemployment, total (% of total labor force) (national estimate)</th>\n",
       "      <th>Unemployment, total (% of total labor force) (modeled ILO estimate)</th>\n",
       "      <th>iso3c</th>\n",
       "      <th>iso2c</th>\n",
       "      <th>adminregion</th>\n",
       "      <th>incomeLevel</th>\n",
       "    </tr>\n",
       "  </thead>\n",
       "  <tbody>\n",
       "    <tr>\n",
       "      <th>0</th>\n",
       "      <td>Afghanistan</td>\n",
       "      <td>1970</td>\n",
       "      <td>NaN</td>\n",
       "      <td>NaN</td>\n",
       "      <td>NaN</td>\n",
       "      <td>NaN</td>\n",
       "      <td>NaN</td>\n",
       "      <td>NaN</td>\n",
       "      <td>NaN</td>\n",
       "      <td>AFG</td>\n",
       "      <td>AF</td>\n",
       "      <td>South Asia</td>\n",
       "      <td>Low income</td>\n",
       "    </tr>\n",
       "    <tr>\n",
       "      <th>1</th>\n",
       "      <td>Afghanistan</td>\n",
       "      <td>1971</td>\n",
       "      <td>NaN</td>\n",
       "      <td>NaN</td>\n",
       "      <td>NaN</td>\n",
       "      <td>NaN</td>\n",
       "      <td>NaN</td>\n",
       "      <td>NaN</td>\n",
       "      <td>NaN</td>\n",
       "      <td>AFG</td>\n",
       "      <td>AF</td>\n",
       "      <td>South Asia</td>\n",
       "      <td>Low income</td>\n",
       "    </tr>\n",
       "    <tr>\n",
       "      <th>2</th>\n",
       "      <td>Afghanistan</td>\n",
       "      <td>1972</td>\n",
       "      <td>NaN</td>\n",
       "      <td>NaN</td>\n",
       "      <td>NaN</td>\n",
       "      <td>NaN</td>\n",
       "      <td>NaN</td>\n",
       "      <td>NaN</td>\n",
       "      <td>NaN</td>\n",
       "      <td>AFG</td>\n",
       "      <td>AF</td>\n",
       "      <td>South Asia</td>\n",
       "      <td>Low income</td>\n",
       "    </tr>\n",
       "    <tr>\n",
       "      <th>3</th>\n",
       "      <td>Afghanistan</td>\n",
       "      <td>1973</td>\n",
       "      <td>NaN</td>\n",
       "      <td>NaN</td>\n",
       "      <td>NaN</td>\n",
       "      <td>NaN</td>\n",
       "      <td>NaN</td>\n",
       "      <td>NaN</td>\n",
       "      <td>NaN</td>\n",
       "      <td>AFG</td>\n",
       "      <td>AF</td>\n",
       "      <td>South Asia</td>\n",
       "      <td>Low income</td>\n",
       "    </tr>\n",
       "    <tr>\n",
       "      <th>4</th>\n",
       "      <td>Afghanistan</td>\n",
       "      <td>1974</td>\n",
       "      <td>NaN</td>\n",
       "      <td>NaN</td>\n",
       "      <td>NaN</td>\n",
       "      <td>NaN</td>\n",
       "      <td>NaN</td>\n",
       "      <td>NaN</td>\n",
       "      <td>NaN</td>\n",
       "      <td>AFG</td>\n",
       "      <td>AF</td>\n",
       "      <td>South Asia</td>\n",
       "      <td>Low income</td>\n",
       "    </tr>\n",
       "  </tbody>\n",
       "</table>\n",
       "</div>"
      ],
      "text/plain": [
       "       country  year  Inflation, consumer prices (annual %)  \\\n",
       "0  Afghanistan  1970                                    NaN   \n",
       "1  Afghanistan  1971                                    NaN   \n",
       "2  Afghanistan  1972                                    NaN   \n",
       "3  Afghanistan  1973                                    NaN   \n",
       "4  Afghanistan  1974                                    NaN   \n",
       "\n",
       "   Inflation, GDP deflator (annual %)  Real interest rate (%)  \\\n",
       "0                                 NaN                     NaN   \n",
       "1                                 NaN                     NaN   \n",
       "2                                 NaN                     NaN   \n",
       "3                                 NaN                     NaN   \n",
       "4                                 NaN                     NaN   \n",
       "\n",
       "   Deposit interest rate (%)  Lending interest rate (%)  \\\n",
       "0                        NaN                        NaN   \n",
       "1                        NaN                        NaN   \n",
       "2                        NaN                        NaN   \n",
       "3                        NaN                        NaN   \n",
       "4                        NaN                        NaN   \n",
       "\n",
       "   Unemployment, total (% of total labor force) (national estimate)  \\\n",
       "0                                                NaN                  \n",
       "1                                                NaN                  \n",
       "2                                                NaN                  \n",
       "3                                                NaN                  \n",
       "4                                                NaN                  \n",
       "\n",
       "   Unemployment, total (% of total labor force) (modeled ILO estimate) iso3c  \\\n",
       "0                                                NaN                     AFG   \n",
       "1                                                NaN                     AFG   \n",
       "2                                                NaN                     AFG   \n",
       "3                                                NaN                     AFG   \n",
       "4                                                NaN                     AFG   \n",
       "\n",
       "  iso2c adminregion incomeLevel  \n",
       "0    AF  South Asia  Low income  \n",
       "1    AF  South Asia  Low income  \n",
       "2    AF  South Asia  Low income  \n",
       "3    AF  South Asia  Low income  \n",
       "4    AF  South Asia  Low income  "
      ]
     },
     "execution_count": 4,
     "metadata": {},
     "output_type": "execute_result"
    }
   ],
   "source": [
    "data.head()"
   ]
  },
  {
   "cell_type": "code",
   "execution_count": 5,
   "id": "66ddf592-5cc4-40d6-aab4-ccb7d035472c",
   "metadata": {},
   "outputs": [
    {
     "data": {
      "text/plain": [
       "country                                                                 object\n",
       "year                                                                     int64\n",
       "Inflation, consumer prices (annual %)                                  float64\n",
       "Inflation, GDP deflator (annual %)                                     float64\n",
       "Real interest rate (%)                                                 float64\n",
       "Deposit interest rate (%)                                              float64\n",
       "Lending interest rate (%)                                              float64\n",
       "Unemployment, total (% of total labor force) (national estimate)       float64\n",
       "Unemployment, total (% of total labor force) (modeled ILO estimate)    float64\n",
       "iso3c                                                                   object\n",
       "iso2c                                                                   object\n",
       "adminregion                                                             object\n",
       "incomeLevel                                                             object\n",
       "dtype: object"
      ]
     },
     "execution_count": 5,
     "metadata": {},
     "output_type": "execute_result"
    }
   ],
   "source": [
    "data.dtypes"
   ]
  },
  {
   "cell_type": "code",
   "execution_count": 6,
   "id": "dc9786be-fba5-4602-ba75-080697624b81",
   "metadata": {},
   "outputs": [
    {
     "name": "stdout",
     "output_type": "stream",
     "text": [
      "<class 'pandas.core.frame.DataFrame'>\n",
      "RangeIndex: 13832 entries, 0 to 13831\n",
      "Data columns (total 13 columns):\n",
      " #   Column                                                               Non-Null Count  Dtype  \n",
      "---  ------                                                               --------------  -----  \n",
      " 0   country                                                              13832 non-null  object \n",
      " 1   year                                                                 13832 non-null  int64  \n",
      " 2   Inflation, consumer prices (annual %)                                9582 non-null   float64\n",
      " 3   Inflation, GDP deflator (annual %)                                   10981 non-null  float64\n",
      " 4   Real interest rate (%)                                               4171 non-null   float64\n",
      " 5   Deposit interest rate (%)                                            4587 non-null   float64\n",
      " 6   Lending interest rate (%)                                            4413 non-null   float64\n",
      " 7   Unemployment, total (% of total labor force) (national estimate)     5175 non-null   float64\n",
      " 8   Unemployment, total (% of total labor force) (modeled ILO estimate)  7285 non-null   float64\n",
      " 9   iso3c                                                                13728 non-null  object \n",
      " 10  iso2c                                                                13676 non-null  object \n",
      " 11  adminregion                                                          7124 non-null   object \n",
      " 12  incomeLevel                                                          13728 non-null  object \n",
      "dtypes: float64(7), int64(1), object(5)\n",
      "memory usage: 1.4+ MB\n"
     ]
    }
   ],
   "source": [
    "data.info()"
   ]
  },
  {
   "cell_type": "code",
   "execution_count": 7,
   "id": "c0d5a486-a98e-4501-b82f-9a25c23f217e",
   "metadata": {},
   "outputs": [
    {
     "data": {
      "text/plain": [
       "country                                                                   0\n",
       "year                                                                      0\n",
       "Inflation, consumer prices (annual %)                                  4250\n",
       "Inflation, GDP deflator (annual %)                                     2851\n",
       "Real interest rate (%)                                                 9661\n",
       "Deposit interest rate (%)                                              9245\n",
       "Lending interest rate (%)                                              9419\n",
       "Unemployment, total (% of total labor force) (national estimate)       8657\n",
       "Unemployment, total (% of total labor force) (modeled ILO estimate)    6547\n",
       "iso3c                                                                   104\n",
       "iso2c                                                                   156\n",
       "adminregion                                                            6708\n",
       "incomeLevel                                                             104\n",
       "dtype: int64"
      ]
     },
     "execution_count": 7,
     "metadata": {},
     "output_type": "execute_result"
    }
   ],
   "source": [
    "data.isnull().sum()"
   ]
  },
  {
   "cell_type": "code",
   "execution_count": null,
   "id": "ecbc33f2-9fea-4872-a5c0-fc1555957010",
   "metadata": {},
   "outputs": [],
   "source": [
    "us_inflation = df.loc[df['country'] == 'United States'][['year','Inflation, consumer prices (annual %)']]\n",
    "us_inflation.rename(columns = {'Inflation, consumer prices (annual %)':'Inflation', 'year':'Year'},inplace=True)\n",
    "us_inflation.set_index('Year',inplace=True)\n",
    "us_inflation.head()"
   ]
  },
  {
   "cell_type": "code",
   "execution_count": 11,
   "id": "8ffda8e8-d1ae-49ad-b0f8-82dabc3c3a35",
   "metadata": {},
   "outputs": [],
   "source": [
    "Nz= data.loc[data['country']=='New Zealand'][['year', 'Inflation, consumer prices (annual %)']]"
   ]
  },
  {
   "cell_type": "code",
   "execution_count": 12,
   "id": "70c1dccb-2828-459e-8002-eb38d0d2f453",
   "metadata": {},
   "outputs": [
    {
     "data": {
      "text/html": [
       "<div>\n",
       "<style scoped>\n",
       "    .dataframe tbody tr th:only-of-type {\n",
       "        vertical-align: middle;\n",
       "    }\n",
       "\n",
       "    .dataframe tbody tr th {\n",
       "        vertical-align: top;\n",
       "    }\n",
       "\n",
       "    .dataframe thead th {\n",
       "        text-align: right;\n",
       "    }\n",
       "</style>\n",
       "<table border=\"1\" class=\"dataframe\">\n",
       "  <thead>\n",
       "    <tr style=\"text-align: right;\">\n",
       "      <th></th>\n",
       "      <th>year</th>\n",
       "      <th>Inflation, consumer prices (annual %)</th>\n",
       "    </tr>\n",
       "  </thead>\n",
       "  <tbody>\n",
       "    <tr>\n",
       "      <th>9100</th>\n",
       "      <td>1970</td>\n",
       "      <td>6.517181</td>\n",
       "    </tr>\n",
       "    <tr>\n",
       "      <th>9101</th>\n",
       "      <td>1971</td>\n",
       "      <td>10.387568</td>\n",
       "    </tr>\n",
       "    <tr>\n",
       "      <th>9102</th>\n",
       "      <td>1972</td>\n",
       "      <td>6.932805</td>\n",
       "    </tr>\n",
       "    <tr>\n",
       "      <th>9103</th>\n",
       "      <td>1973</td>\n",
       "      <td>8.166669</td>\n",
       "    </tr>\n",
       "    <tr>\n",
       "      <th>9104</th>\n",
       "      <td>1974</td>\n",
       "      <td>11.109402</td>\n",
       "    </tr>\n",
       "  </tbody>\n",
       "</table>\n",
       "</div>"
      ],
      "text/plain": [
       "      year  Inflation, consumer prices (annual %)\n",
       "9100  1970                               6.517181\n",
       "9101  1971                              10.387568\n",
       "9102  1972                               6.932805\n",
       "9103  1973                               8.166669\n",
       "9104  1974                              11.109402"
      ]
     },
     "execution_count": 12,
     "metadata": {},
     "output_type": "execute_result"
    }
   ],
   "source": [
    "Nz.head()"
   ]
  },
  {
   "cell_type": "code",
   "execution_count": 18,
   "id": "ec63fff0-80a2-459d-8cb9-a19f5ae44f1e",
   "metadata": {},
   "outputs": [
    {
     "data": {
      "text/plain": [
       "Inflation, consumer prices (annual %)    0\n",
       "dtype: int64"
      ]
     },
     "execution_count": 18,
     "metadata": {},
     "output_type": "execute_result"
    }
   ],
   "source": [
    "Nz.isnull().sum()"
   ]
  },
  {
   "cell_type": "code",
   "execution_count": 15,
   "id": "eb3ac022-dafb-41eb-9bd6-9d77c117b194",
   "metadata": {},
   "outputs": [
    {
     "data": {
      "text/plain": [
       "<AxesSubplot:>"
      ]
     },
     "execution_count": 15,
     "metadata": {},
     "output_type": "execute_result"
    },
    {
     "data": {
      "image/png": "[encoded data removed]",
      "text/plain": [
       "<Figure size 640x480 with 1 Axes>"
      ]
     },
     "metadata": {},
     "output_type": "display_data"
    }
   ],
   "source": [
    "Nz.plot(kind='line')"
   ]
  },
  {
   "cell_type": "code",
   "execution_count": 16,
   "id": "fa38d129-3dc3-4697-a30a-4a3a16e726a8",
   "metadata": {},
   "outputs": [],
   "source": [
    "Nz.set_index('year', inplace=True)"
   ]
  },
  {
   "cell_type": "code",
   "execution_count": 17,
   "id": "c53f97a9-5061-407c-a352-ebde1baee561",
   "metadata": {},
   "outputs": [
    {
     "data": {
      "text/plain": [
       "<AxesSubplot:xlabel='year'>"
      ]
     },
     "execution_count": 17,
     "metadata": {},
     "output_type": "execute_result"
    },
    {
     "data": {
      "image/png": "[encoded data removed]",
      "text/plain": [
       "<Figure size 640x480 with 1 Axes>"
      ]
     },
     "metadata": {},
     "output_type": "display_data"
    }
   ],
   "source": [
    "Nz.plot()"
   ]
  },
  {
   "cell_type": "code",
   "execution_count": 35,
   "id": "067c9104-917e-4ca8-8ab7-d2b392be96f5",
   "metadata": {},
   "outputs": [],
   "source": [
    "Nz1= data.loc[data['country']=='New Zealand'][['year', 'Inflation, consumer prices (annual %)', 'Unemployment, total (% of total labor force) (national estimate)']]"
   ]
  },
  {
   "cell_type": "code",
   "execution_count": 36,
   "id": "43a6be37-60c4-4cc2-81ff-8c440068cf9d",
   "metadata": {},
   "outputs": [
    {
     "data": {
      "text/html": [
       "<div>\n",
       "<style scoped>\n",
       "    .dataframe tbody tr th:only-of-type {\n",
       "        vertical-align: middle;\n",
       "    }\n",
       "\n",
       "    .dataframe tbody tr th {\n",
       "        vertical-align: top;\n",
       "    }\n",
       "\n",
       "    .dataframe thead th {\n",
       "        text-align: right;\n",
       "    }\n",
       "</style>\n",
       "<table border=\"1\" class=\"dataframe\">\n",
       "  <thead>\n",
       "    <tr style=\"text-align: right;\">\n",
       "      <th></th>\n",
       "      <th>year</th>\n",
       "      <th>Inflation, consumer prices (annual %)</th>\n",
       "      <th>Unemployment, total (% of total labor force) (national estimate)</th>\n",
       "    </tr>\n",
       "  </thead>\n",
       "  <tbody>\n",
       "    <tr>\n",
       "      <th>9100</th>\n",
       "      <td>1970</td>\n",
       "      <td>6.517181</td>\n",
       "      <td>NaN</td>\n",
       "    </tr>\n",
       "    <tr>\n",
       "      <th>9101</th>\n",
       "      <td>1971</td>\n",
       "      <td>10.387568</td>\n",
       "      <td>NaN</td>\n",
       "    </tr>\n",
       "    <tr>\n",
       "      <th>9102</th>\n",
       "      <td>1972</td>\n",
       "      <td>6.932805</td>\n",
       "      <td>NaN</td>\n",
       "    </tr>\n",
       "    <tr>\n",
       "      <th>9103</th>\n",
       "      <td>1973</td>\n",
       "      <td>8.166669</td>\n",
       "      <td>NaN</td>\n",
       "    </tr>\n",
       "    <tr>\n",
       "      <th>9104</th>\n",
       "      <td>1974</td>\n",
       "      <td>11.109402</td>\n",
       "      <td>NaN</td>\n",
       "    </tr>\n",
       "  </tbody>\n",
       "</table>\n",
       "</div>"
      ],
      "text/plain": [
       "      year  Inflation, consumer prices (annual %)  \\\n",
       "9100  1970                               6.517181   \n",
       "9101  1971                              10.387568   \n",
       "9102  1972                               6.932805   \n",
       "9103  1973                               8.166669   \n",
       "9104  1974                              11.109402   \n",
       "\n",
       "      Unemployment, total (% of total labor force) (national estimate)  \n",
       "9100                                                NaN                 \n",
       "9101                                                NaN                 \n",
       "9102                                                NaN                 \n",
       "9103                                                NaN                 \n",
       "9104                                                NaN                 "
      ]
     },
     "execution_count": 36,
     "metadata": {},
     "output_type": "execute_result"
    }
   ],
   "source": [
    "Nz1.head()"
   ]
  },
  {
   "cell_type": "code",
   "execution_count": 21,
   "id": "2d5c02fb-ee62-47a4-bbff-460fb3bf21ff",
   "metadata": {},
   "outputs": [
    {
     "data": {
      "text/plain": [
       "year                                                                 0\n",
       "Inflation, consumer prices (annual %)                                0\n",
       "Unemployment, total (% of total labor force) (national estimate)    17\n",
       "dtype: int64"
      ]
     },
     "execution_count": 21,
     "metadata": {},
     "output_type": "execute_result"
    }
   ],
   "source": [
    "Nz1.isnull().sum()"
   ]
  },
  {
   "cell_type": "code",
   "execution_count": 37,
   "id": "905cfe1d-1f7c-4728-bcc0-e334a0b967a6",
   "metadata": {},
   "outputs": [
    {
     "data": {
      "text/html": [
       "<div>\n",
       "<style scoped>\n",
       "    .dataframe tbody tr th:only-of-type {\n",
       "        vertical-align: middle;\n",
       "    }\n",
       "\n",
       "    .dataframe tbody tr th {\n",
       "        vertical-align: top;\n",
       "    }\n",
       "\n",
       "    .dataframe thead th {\n",
       "        text-align: right;\n",
       "    }\n",
       "</style>\n",
       "<table border=\"1\" class=\"dataframe\">\n",
       "  <thead>\n",
       "    <tr style=\"text-align: right;\">\n",
       "      <th></th>\n",
       "      <th>year</th>\n",
       "      <th>Inflation, consumer prices (annual %)</th>\n",
       "      <th>Unemployment, total (% of total labor force) (national estimate)</th>\n",
       "    </tr>\n",
       "  </thead>\n",
       "  <tbody>\n",
       "    <tr>\n",
       "      <th>9100</th>\n",
       "      <td>1970</td>\n",
       "      <td>6.517181</td>\n",
       "      <td>6.001429</td>\n",
       "    </tr>\n",
       "    <tr>\n",
       "      <th>9101</th>\n",
       "      <td>1971</td>\n",
       "      <td>10.387568</td>\n",
       "      <td>6.001429</td>\n",
       "    </tr>\n",
       "    <tr>\n",
       "      <th>9102</th>\n",
       "      <td>1972</td>\n",
       "      <td>6.932805</td>\n",
       "      <td>6.001429</td>\n",
       "    </tr>\n",
       "    <tr>\n",
       "      <th>9103</th>\n",
       "      <td>1973</td>\n",
       "      <td>8.166669</td>\n",
       "      <td>6.001429</td>\n",
       "    </tr>\n",
       "    <tr>\n",
       "      <th>9104</th>\n",
       "      <td>1974</td>\n",
       "      <td>11.109402</td>\n",
       "      <td>6.001429</td>\n",
       "    </tr>\n",
       "    <tr>\n",
       "      <th>9105</th>\n",
       "      <td>1975</td>\n",
       "      <td>14.684983</td>\n",
       "      <td>6.001429</td>\n",
       "    </tr>\n",
       "    <tr>\n",
       "      <th>9106</th>\n",
       "      <td>1976</td>\n",
       "      <td>16.906857</td>\n",
       "      <td>6.001429</td>\n",
       "    </tr>\n",
       "    <tr>\n",
       "      <th>9107</th>\n",
       "      <td>1977</td>\n",
       "      <td>14.383549</td>\n",
       "      <td>6.001429</td>\n",
       "    </tr>\n",
       "    <tr>\n",
       "      <th>9108</th>\n",
       "      <td>1978</td>\n",
       "      <td>11.956618</td>\n",
       "      <td>6.001429</td>\n",
       "    </tr>\n",
       "    <tr>\n",
       "      <th>9109</th>\n",
       "      <td>1979</td>\n",
       "      <td>13.699595</td>\n",
       "      <td>6.001429</td>\n",
       "    </tr>\n",
       "    <tr>\n",
       "      <th>9110</th>\n",
       "      <td>1980</td>\n",
       "      <td>17.150545</td>\n",
       "      <td>6.001429</td>\n",
       "    </tr>\n",
       "    <tr>\n",
       "      <th>9111</th>\n",
       "      <td>1981</td>\n",
       "      <td>15.370160</td>\n",
       "      <td>6.001429</td>\n",
       "    </tr>\n",
       "    <tr>\n",
       "      <th>9112</th>\n",
       "      <td>1982</td>\n",
       "      <td>16.163694</td>\n",
       "      <td>6.001429</td>\n",
       "    </tr>\n",
       "    <tr>\n",
       "      <th>9113</th>\n",
       "      <td>1983</td>\n",
       "      <td>7.341076</td>\n",
       "      <td>6.001429</td>\n",
       "    </tr>\n",
       "    <tr>\n",
       "      <th>9114</th>\n",
       "      <td>1984</td>\n",
       "      <td>6.171253</td>\n",
       "      <td>6.001429</td>\n",
       "    </tr>\n",
       "    <tr>\n",
       "      <th>9115</th>\n",
       "      <td>1985</td>\n",
       "      <td>15.417656</td>\n",
       "      <td>6.001429</td>\n",
       "    </tr>\n",
       "    <tr>\n",
       "      <th>9116</th>\n",
       "      <td>1986</td>\n",
       "      <td>13.213398</td>\n",
       "      <td>4.190000</td>\n",
       "    </tr>\n",
       "    <tr>\n",
       "      <th>9117</th>\n",
       "      <td>1987</td>\n",
       "      <td>15.744301</td>\n",
       "      <td>4.210000</td>\n",
       "    </tr>\n",
       "    <tr>\n",
       "      <th>9118</th>\n",
       "      <td>1988</td>\n",
       "      <td>6.375249</td>\n",
       "      <td>5.770000</td>\n",
       "    </tr>\n",
       "    <tr>\n",
       "      <th>9119</th>\n",
       "      <td>1989</td>\n",
       "      <td>5.715992</td>\n",
       "      <td>7.310000</td>\n",
       "    </tr>\n",
       "    <tr>\n",
       "      <th>9120</th>\n",
       "      <td>1990</td>\n",
       "      <td>6.098444</td>\n",
       "      <td>7.980000</td>\n",
       "    </tr>\n",
       "    <tr>\n",
       "      <th>9121</th>\n",
       "      <td>1991</td>\n",
       "      <td>2.602393</td>\n",
       "      <td>10.610000</td>\n",
       "    </tr>\n",
       "    <tr>\n",
       "      <th>9122</th>\n",
       "      <td>1992</td>\n",
       "      <td>1.014560</td>\n",
       "      <td>10.670000</td>\n",
       "    </tr>\n",
       "    <tr>\n",
       "      <th>9123</th>\n",
       "      <td>1993</td>\n",
       "      <td>1.288208</td>\n",
       "      <td>9.800000</td>\n",
       "    </tr>\n",
       "    <tr>\n",
       "      <th>9124</th>\n",
       "      <td>1994</td>\n",
       "      <td>1.745378</td>\n",
       "      <td>8.350000</td>\n",
       "    </tr>\n",
       "    <tr>\n",
       "      <th>9125</th>\n",
       "      <td>1995</td>\n",
       "      <td>3.754944</td>\n",
       "      <td>6.460000</td>\n",
       "    </tr>\n",
       "    <tr>\n",
       "      <th>9126</th>\n",
       "      <td>1996</td>\n",
       "      <td>2.285713</td>\n",
       "      <td>6.290000</td>\n",
       "    </tr>\n",
       "    <tr>\n",
       "      <th>9127</th>\n",
       "      <td>1997</td>\n",
       "      <td>1.187148</td>\n",
       "      <td>6.860000</td>\n",
       "    </tr>\n",
       "    <tr>\n",
       "      <th>9128</th>\n",
       "      <td>1998</td>\n",
       "      <td>1.265244</td>\n",
       "      <td>7.720000</td>\n",
       "    </tr>\n",
       "    <tr>\n",
       "      <th>9129</th>\n",
       "      <td>1999</td>\n",
       "      <td>-0.114267</td>\n",
       "      <td>7.020000</td>\n",
       "    </tr>\n",
       "    <tr>\n",
       "      <th>9130</th>\n",
       "      <td>2000</td>\n",
       "      <td>2.615234</td>\n",
       "      <td>6.130000</td>\n",
       "    </tr>\n",
       "    <tr>\n",
       "      <th>9131</th>\n",
       "      <td>2001</td>\n",
       "      <td>2.625816</td>\n",
       "      <td>5.430000</td>\n",
       "    </tr>\n",
       "    <tr>\n",
       "      <th>9132</th>\n",
       "      <td>2002</td>\n",
       "      <td>2.677093</td>\n",
       "      <td>5.280000</td>\n",
       "    </tr>\n",
       "    <tr>\n",
       "      <th>9133</th>\n",
       "      <td>2003</td>\n",
       "      <td>1.753574</td>\n",
       "      <td>4.750000</td>\n",
       "    </tr>\n",
       "    <tr>\n",
       "      <th>9134</th>\n",
       "      <td>2004</td>\n",
       "      <td>2.290249</td>\n",
       "      <td>4.010000</td>\n",
       "    </tr>\n",
       "    <tr>\n",
       "      <th>9135</th>\n",
       "      <td>2005</td>\n",
       "      <td>3.037023</td>\n",
       "      <td>3.810000</td>\n",
       "    </tr>\n",
       "    <tr>\n",
       "      <th>9136</th>\n",
       "      <td>2006</td>\n",
       "      <td>3.365402</td>\n",
       "      <td>3.860000</td>\n",
       "    </tr>\n",
       "    <tr>\n",
       "      <th>9137</th>\n",
       "      <td>2007</td>\n",
       "      <td>2.376143</td>\n",
       "      <td>3.660000</td>\n",
       "    </tr>\n",
       "    <tr>\n",
       "      <th>9138</th>\n",
       "      <td>2008</td>\n",
       "      <td>3.958949</td>\n",
       "      <td>4.170000</td>\n",
       "    </tr>\n",
       "    <tr>\n",
       "      <th>9139</th>\n",
       "      <td>2009</td>\n",
       "      <td>2.115651</td>\n",
       "      <td>6.120000</td>\n",
       "    </tr>\n",
       "    <tr>\n",
       "      <th>9140</th>\n",
       "      <td>2010</td>\n",
       "      <td>2.302024</td>\n",
       "      <td>6.560000</td>\n",
       "    </tr>\n",
       "    <tr>\n",
       "      <th>9141</th>\n",
       "      <td>2011</td>\n",
       "      <td>4.027907</td>\n",
       "      <td>6.490000</td>\n",
       "    </tr>\n",
       "    <tr>\n",
       "      <th>9142</th>\n",
       "      <td>2012</td>\n",
       "      <td>1.059913</td>\n",
       "      <td>6.930000</td>\n",
       "    </tr>\n",
       "    <tr>\n",
       "      <th>9143</th>\n",
       "      <td>2013</td>\n",
       "      <td>1.134423</td>\n",
       "      <td>5.840000</td>\n",
       "    </tr>\n",
       "    <tr>\n",
       "      <th>9144</th>\n",
       "      <td>2014</td>\n",
       "      <td>1.227508</td>\n",
       "      <td>5.430000</td>\n",
       "    </tr>\n",
       "    <tr>\n",
       "      <th>9145</th>\n",
       "      <td>2015</td>\n",
       "      <td>0.292705</td>\n",
       "      <td>5.410000</td>\n",
       "    </tr>\n",
       "    <tr>\n",
       "      <th>9146</th>\n",
       "      <td>2016</td>\n",
       "      <td>0.646240</td>\n",
       "      <td>5.150000</td>\n",
       "    </tr>\n",
       "    <tr>\n",
       "      <th>9147</th>\n",
       "      <td>2017</td>\n",
       "      <td>1.850788</td>\n",
       "      <td>4.740000</td>\n",
       "    </tr>\n",
       "    <tr>\n",
       "      <th>9148</th>\n",
       "      <td>2018</td>\n",
       "      <td>1.598297</td>\n",
       "      <td>4.330000</td>\n",
       "    </tr>\n",
       "    <tr>\n",
       "      <th>9149</th>\n",
       "      <td>2019</td>\n",
       "      <td>1.619632</td>\n",
       "      <td>4.110000</td>\n",
       "    </tr>\n",
       "    <tr>\n",
       "      <th>9150</th>\n",
       "      <td>2020</td>\n",
       "      <td>1.714562</td>\n",
       "      <td>4.600000</td>\n",
       "    </tr>\n",
       "    <tr>\n",
       "      <th>9151</th>\n",
       "      <td>2021</td>\n",
       "      <td>3.941121</td>\n",
       "      <td>6.001429</td>\n",
       "    </tr>\n",
       "  </tbody>\n",
       "</table>\n",
       "</div>"
      ],
      "text/plain": [
       "      year  Inflation, consumer prices (annual %)  \\\n",
       "9100  1970                               6.517181   \n",
       "9101  1971                              10.387568   \n",
       "9102  1972                               6.932805   \n",
       "9103  1973                               8.166669   \n",
       "9104  1974                              11.109402   \n",
       "9105  1975                              14.684983   \n",
       "9106  1976                              16.906857   \n",
       "9107  1977                              14.383549   \n",
       "9108  1978                              11.956618   \n",
       "9109  1979                              13.699595   \n",
       "9110  1980                              17.150545   \n",
       "9111  1981                              15.370160   \n",
       "9112  1982                              16.163694   \n",
       "9113  1983                               7.341076   \n",
       "9114  1984                               6.171253   \n",
       "9115  1985                              15.417656   \n",
       "9116  1986                              13.213398   \n",
       "9117  1987                              15.744301   \n",
       "9118  1988                               6.375249   \n",
       "9119  1989                               5.715992   \n",
       "9120  1990                               6.098444   \n",
       "9121  1991                               2.602393   \n",
       "9122  1992                               1.014560   \n",
       "9123  1993                               1.288208   \n",
       "9124  1994                               1.745378   \n",
       "9125  1995                               3.754944   \n",
       "9126  1996                               2.285713   \n",
       "9127  1997                               1.187148   \n",
       "9128  1998                               1.265244   \n",
       "9129  1999                              -0.114267   \n",
       "9130  2000                               2.615234   \n",
       "9131  2001                               2.625816   \n",
       "9132  2002                               2.677093   \n",
       "9133  2003                               1.753574   \n",
       "9134  2004                               2.290249   \n",
       "9135  2005                               3.037023   \n",
       "9136  2006                               3.365402   \n",
       "9137  2007                               2.376143   \n",
       "9138  2008                               3.958949   \n",
       "9139  2009                               2.115651   \n",
       "9140  2010                               2.302024   \n",
       "9141  2011                               4.027907   \n",
       "9142  2012                               1.059913   \n",
       "9143  2013                               1.134423   \n",
       "9144  2014                               1.227508   \n",
       "9145  2015                               0.292705   \n",
       "9146  2016                               0.646240   \n",
       "9147  2017                               1.850788   \n",
       "9148  2018                               1.598297   \n",
       "9149  2019                               1.619632   \n",
       "9150  2020                               1.714562   \n",
       "9151  2021                               3.941121   \n",
       "\n",
       "      Unemployment, total (% of total labor force) (national estimate)  \n",
       "9100                                           6.001429                 \n",
       "9101                                           6.001429                 \n",
       "9102                                           6.001429                 \n",
       "9103                                           6.001429                 \n",
       "9104                                           6.001429                 \n",
       "9105                                           6.001429                 \n",
       "9106                                           6.001429                 \n",
       "9107                                           6.001429                 \n",
       "9108                                           6.001429                 \n",
       "9109                                           6.001429                 \n",
       "9110                                           6.001429                 \n",
       "9111                                           6.001429                 \n",
       "9112                                           6.001429                 \n",
       "9113                                           6.001429                 \n",
       "9114                                           6.001429                 \n",
       "9115                                           6.001429                 \n",
       "9116                                           4.190000                 \n",
       "9117                                           4.210000                 \n",
       "9118                                           5.770000                 \n",
       "9119                                           7.310000                 \n",
       "9120                                           7.980000                 \n",
       "9121                                          10.610000                 \n",
       "9122                                          10.670000                 \n",
       "9123                                           9.800000                 \n",
       "9124                                           8.350000                 \n",
       "9125                                           6.460000                 \n",
       "9126                                           6.290000                 \n",
       "9127                                           6.860000                 \n",
       "9128                                           7.720000                 \n",
       "9129                                           7.020000                 \n",
       "9130                                           6.130000                 \n",
       "9131                                           5.430000                 \n",
       "9132                                           5.280000                 \n",
       "9133                                           4.750000                 \n",
       "9134                                           4.010000                 \n",
       "9135                                           3.810000                 \n",
       "9136                                           3.860000                 \n",
       "9137                                           3.660000                 \n",
       "9138                                           4.170000                 \n",
       "9139                                           6.120000                 \n",
       "9140                                           6.560000                 \n",
       "9141                                           6.490000                 \n",
       "9142                                           6.930000                 \n",
       "9143                                           5.840000                 \n",
       "9144                                           5.430000                 \n",
       "9145                                           5.410000                 \n",
       "9146                                           5.150000                 \n",
       "9147                                           4.740000                 \n",
       "9148                                           4.330000                 \n",
       "9149                                           4.110000                 \n",
       "9150                                           4.600000                 \n",
       "9151                                           6.001429                 "
      ]
     },
     "execution_count": 37,
     "metadata": {},
     "output_type": "execute_result"
    }
   ],
   "source": [
    "Nz1['Unemployment, total (% of total labor force) (national estimate)']=Nz1['Unemployment, total (% of total labor force) (national estimate)'].fillna(Nz1['Unemployment, total (% of total labor force) (national estimate)'].mean())\n",
    "Nz1"
   ]
  },
  {
   "cell_type": "code",
   "execution_count": 38,
   "id": "92ce3389-ba9f-472c-b706-cf8b895226c0",
   "metadata": {},
   "outputs": [
    {
     "data": {
      "text/plain": [
       "year                                                                0\n",
       "Inflation, consumer prices (annual %)                               0\n",
       "Unemployment, total (% of total labor force) (national estimate)    0\n",
       "dtype: int64"
      ]
     },
     "execution_count": 38,
     "metadata": {},
     "output_type": "execute_result"
    }
   ],
   "source": [
    "Nz1.isnull().sum()"
   ]
  },
  {
   "cell_type": "code",
   "execution_count": 40,
   "id": "5f1a7979-57f6-4b0c-9553-4872b29b8cb1",
   "metadata": {},
   "outputs": [],
   "source": [
    "Nz1.set_index('year', inplace=True)"
   ]
  },
  {
   "cell_type": "code",
   "execution_count": 41,
   "id": "24e499ad-7bc9-4601-9959-8c30a540e150",
   "metadata": {},
   "outputs": [
    {
     "data": {
      "text/plain": [
       "<AxesSubplot:xlabel='year'>"
      ]
     },
     "execution_count": 41,
     "metadata": {},
     "output_type": "execute_result"
    },
    {
     "data": {
      "image/png": "[encoded data removed]",
      "text/plain": [
       "<Figure size 640x480 with 1 Axes>"
      ]
     },
     "metadata": {},
     "output_type": "display_data"
    }
   ],
   "source": [
    "Nz1.plot()"
   ]
  },
  {
   "cell_type": "code",
   "execution_count": 43,
   "id": "ec3d9c95-58fc-44b4-a7da-1ba2fba584e9",
   "metadata": {},
   "outputs": [],
   "source": [
    "Nz2= data.loc[data['country']=='New Zealand'][['year', 'Inflation, consumer prices (annual %)', 'Unemployment, total (% of total labor force) (national estimate)', 'Real interest rate (%)']]"
   ]
  },
  {
   "cell_type": "code",
   "execution_count": 45,
   "id": "fc66fc93-de5e-4885-8e31-cc6ba0d5793a",
   "metadata": {},
   "outputs": [
    {
     "data": {
      "text/html": [
       "<div>\n",
       "<style scoped>\n",
       "    .dataframe tbody tr th:only-of-type {\n",
       "        vertical-align: middle;\n",
       "    }\n",
       "\n",
       "    .dataframe tbody tr th {\n",
       "        vertical-align: top;\n",
       "    }\n",
       "\n",
       "    .dataframe thead th {\n",
       "        text-align: right;\n",
       "    }\n",
       "</style>\n",
       "<table border=\"1\" class=\"dataframe\">\n",
       "  <thead>\n",
       "    <tr style=\"text-align: right;\">\n",
       "      <th></th>\n",
       "      <th>year</th>\n",
       "      <th>Inflation, consumer prices (annual %)</th>\n",
       "      <th>Unemployment, total (% of total labor force) (national estimate)</th>\n",
       "      <th>Real interest rate (%)</th>\n",
       "    </tr>\n",
       "  </thead>\n",
       "  <tbody>\n",
       "    <tr>\n",
       "      <th>9100</th>\n",
       "      <td>1970</td>\n",
       "      <td>6.517181</td>\n",
       "      <td>NaN</td>\n",
       "      <td>NaN</td>\n",
       "    </tr>\n",
       "    <tr>\n",
       "      <th>9101</th>\n",
       "      <td>1971</td>\n",
       "      <td>10.387568</td>\n",
       "      <td>NaN</td>\n",
       "      <td>NaN</td>\n",
       "    </tr>\n",
       "    <tr>\n",
       "      <th>9102</th>\n",
       "      <td>1972</td>\n",
       "      <td>6.932805</td>\n",
       "      <td>NaN</td>\n",
       "      <td>NaN</td>\n",
       "    </tr>\n",
       "    <tr>\n",
       "      <th>9103</th>\n",
       "      <td>1973</td>\n",
       "      <td>8.166669</td>\n",
       "      <td>NaN</td>\n",
       "      <td>NaN</td>\n",
       "    </tr>\n",
       "    <tr>\n",
       "      <th>9104</th>\n",
       "      <td>1974</td>\n",
       "      <td>11.109402</td>\n",
       "      <td>NaN</td>\n",
       "      <td>NaN</td>\n",
       "    </tr>\n",
       "  </tbody>\n",
       "</table>\n",
       "</div>"
      ],
      "text/plain": [
       "      year  Inflation, consumer prices (annual %)  \\\n",
       "9100  1970                               6.517181   \n",
       "9101  1971                              10.387568   \n",
       "9102  1972                               6.932805   \n",
       "9103  1973                               8.166669   \n",
       "9104  1974                              11.109402   \n",
       "\n",
       "      Unemployment, total (% of total labor force) (national estimate)  \\\n",
       "9100                                                NaN                  \n",
       "9101                                                NaN                  \n",
       "9102                                                NaN                  \n",
       "9103                                                NaN                  \n",
       "9104                                                NaN                  \n",
       "\n",
       "      Real interest rate (%)  \n",
       "9100                     NaN  \n",
       "9101                     NaN  \n",
       "9102                     NaN  \n",
       "9103                     NaN  \n",
       "9104                     NaN  "
      ]
     },
     "execution_count": 45,
     "metadata": {},
     "output_type": "execute_result"
    }
   ],
   "source": [
    "Nz2.head()"
   ]
  },
  {
   "cell_type": "code",
   "execution_count": 46,
   "id": "f073aea3-b677-4956-b7f1-3df20dbbcd8c",
   "metadata": {},
   "outputs": [
    {
     "data": {
      "text/plain": [
       "year                                                                 0\n",
       "Inflation, consumer prices (annual %)                                0\n",
       "Unemployment, total (% of total labor force) (national estimate)    17\n",
       "Real interest rate (%)                                              31\n",
       "dtype: int64"
      ]
     },
     "execution_count": 46,
     "metadata": {},
     "output_type": "execute_result"
    }
   ],
   "source": [
    "Nz2.isnull().sum()"
   ]
  },
  {
   "cell_type": "code",
   "execution_count": 47,
   "id": "8ed42f82-0d16-4952-bec7-d71ba7dc10fb",
   "metadata": {},
   "outputs": [],
   "source": [
    "Nz2.dropna(inplace=True)"
   ]
  },
  {
   "cell_type": "code",
   "execution_count": 49,
   "id": "ab2a51a4-e900-4884-b6f3-92f90e1d97c4",
   "metadata": {},
   "outputs": [],
   "source": [
    "Nz2.set_index('year', inplace=True)"
   ]
  },
  {
   "cell_type": "code",
   "execution_count": 50,
   "id": "844bcc07-9f83-41c4-b8b2-8ea75397ea96",
   "metadata": {},
   "outputs": [
    {
     "data": {
      "text/plain": [
       "<seaborn.axisgrid.PairGrid at 0x2dd0f05b520>"
      ]
     },
     "execution_count": 50,
     "metadata": {},
     "output_type": "execute_result"
    },
    {
     "data": {
      "image/png": "[encoded data removed]",
      "text/plain": [
       "<Figure size 750x750 with 12 Axes>"
      ]
     },
     "metadata": {},
     "output_type": "display_data"
    }
   ],
   "source": [
    "sns.pairplot(data=Nz2)"
   ]
  },
  {
   "cell_type": "code",
   "execution_count": 53,
   "id": "b4546cdf-8a03-401b-87bc-67d2abb2d070",
   "metadata": {},
   "outputs": [],
   "source": [
    "Nz2.rename(columns={'Inflation, consumer prices (annual %)':'Inflation'}, inplace=True)"
   ]
  },
  {
   "cell_type": "code",
   "execution_count": 66,
   "id": "daea4fdd-82a9-45ad-952b-b3430aba41de",
   "metadata": {},
   "outputs": [
    {
     "data": {
      "text/html": [
       "<div>\n",
       "<style scoped>\n",
       "    .dataframe tbody tr th:only-of-type {\n",
       "        vertical-align: middle;\n",
       "    }\n",
       "\n",
       "    .dataframe tbody tr th {\n",
       "        vertical-align: top;\n",
       "    }\n",
       "\n",
       "    .dataframe thead th {\n",
       "        text-align: right;\n",
       "    }\n",
       "</style>\n",
       "<table border=\"1\" class=\"dataframe\">\n",
       "  <thead>\n",
       "    <tr style=\"text-align: right;\">\n",
       "      <th></th>\n",
       "      <th>Inflation</th>\n",
       "      <th>Unemployment, total (% of total labor force) (national estimate)</th>\n",
       "      <th>Real interest rate (%)</th>\n",
       "    </tr>\n",
       "    <tr>\n",
       "      <th>year</th>\n",
       "      <th></th>\n",
       "      <th></th>\n",
       "      <th></th>\n",
       "    </tr>\n",
       "  </thead>\n",
       "  <tbody>\n",
       "    <tr>\n",
       "      <th>1998</th>\n",
       "      <td>1.265244</td>\n",
       "      <td>7.72</td>\n",
       "      <td>7.793469</td>\n",
       "    </tr>\n",
       "    <tr>\n",
       "      <th>1999</th>\n",
       "      <td>-0.114267</td>\n",
       "      <td>7.02</td>\n",
       "      <td>6.503624</td>\n",
       "    </tr>\n",
       "    <tr>\n",
       "      <th>2000</th>\n",
       "      <td>2.615234</td>\n",
       "      <td>6.13</td>\n",
       "      <td>4.827071</td>\n",
       "    </tr>\n",
       "    <tr>\n",
       "      <th>2001</th>\n",
       "      <td>2.625816</td>\n",
       "      <td>5.43</td>\n",
       "      <td>3.648836</td>\n",
       "    </tr>\n",
       "    <tr>\n",
       "      <th>2002</th>\n",
       "      <td>2.677093</td>\n",
       "      <td>5.28</td>\n",
       "      <td>6.817110</td>\n",
       "    </tr>\n",
       "  </tbody>\n",
       "</table>\n",
       "</div>"
      ],
      "text/plain": [
       "      Inflation  \\\n",
       "year              \n",
       "1998   1.265244   \n",
       "1999  -0.114267   \n",
       "2000   2.615234   \n",
       "2001   2.625816   \n",
       "2002   2.677093   \n",
       "\n",
       "      Unemployment, total (% of total labor force) (national estimate)  \\\n",
       "year                                                                     \n",
       "1998                                               7.72                  \n",
       "1999                                               7.02                  \n",
       "2000                                               6.13                  \n",
       "2001                                               5.43                  \n",
       "2002                                               5.28                  \n",
       "\n",
       "      Real interest rate (%)  \n",
       "year                          \n",
       "1998                7.793469  \n",
       "1999                6.503624  \n",
       "2000                4.827071  \n",
       "2001                3.648836  \n",
       "2002                6.817110  "
      ]
     },
     "execution_count": 66,
     "metadata": {},
     "output_type": "execute_result"
    }
   ],
   "source": [
    "Nz2.head()"
   ]
  },
  {
   "cell_type": "code",
   "execution_count": 69,
   "id": "29afc99d-ed5d-4c63-b9c0-8d15d69bc070",
   "metadata": {},
   "outputs": [],
   "source": [
    "Nz2.columns= [\"inflation\", \"unemployment\", \"interest_rate\"]"
   ]
  },
  {
   "cell_type": "code",
   "execution_count": 70,
   "id": "d54ee10a-80c8-4017-ad6f-5e13c8bb2ed0",
   "metadata": {},
   "outputs": [
    {
     "data": {
      "text/html": [
       "<div>\n",
       "<style scoped>\n",
       "    .dataframe tbody tr th:only-of-type {\n",
       "        vertical-align: middle;\n",
       "    }\n",
       "\n",
       "    .dataframe tbody tr th {\n",
       "        vertical-align: top;\n",
       "    }\n",
       "\n",
       "    .dataframe thead th {\n",
       "        text-align: right;\n",
       "    }\n",
       "</style>\n",
       "<table border=\"1\" class=\"dataframe\">\n",
       "  <thead>\n",
       "    <tr style=\"text-align: right;\">\n",
       "      <th></th>\n",
       "      <th>inflation</th>\n",
       "      <th>unemployment</th>\n",
       "      <th>interest_rate</th>\n",
       "    </tr>\n",
       "    <tr>\n",
       "      <th>year</th>\n",
       "      <th></th>\n",
       "      <th></th>\n",
       "      <th></th>\n",
       "    </tr>\n",
       "  </thead>\n",
       "  <tbody>\n",
       "    <tr>\n",
       "      <th>1998</th>\n",
       "      <td>1.265244</td>\n",
       "      <td>7.72</td>\n",
       "      <td>7.793469</td>\n",
       "    </tr>\n",
       "    <tr>\n",
       "      <th>1999</th>\n",
       "      <td>-0.114267</td>\n",
       "      <td>7.02</td>\n",
       "      <td>6.503624</td>\n",
       "    </tr>\n",
       "    <tr>\n",
       "      <th>2000</th>\n",
       "      <td>2.615234</td>\n",
       "      <td>6.13</td>\n",
       "      <td>4.827071</td>\n",
       "    </tr>\n",
       "    <tr>\n",
       "      <th>2001</th>\n",
       "      <td>2.625816</td>\n",
       "      <td>5.43</td>\n",
       "      <td>3.648836</td>\n",
       "    </tr>\n",
       "    <tr>\n",
       "      <th>2002</th>\n",
       "      <td>2.677093</td>\n",
       "      <td>5.28</td>\n",
       "      <td>6.817110</td>\n",
       "    </tr>\n",
       "  </tbody>\n",
       "</table>\n",
       "</div>"
      ],
      "text/plain": [
       "      inflation  unemployment  interest_rate\n",
       "year                                        \n",
       "1998   1.265244          7.72       7.793469\n",
       "1999  -0.114267          7.02       6.503624\n",
       "2000   2.615234          6.13       4.827071\n",
       "2001   2.625816          5.43       3.648836\n",
       "2002   2.677093          5.28       6.817110"
      ]
     },
     "execution_count": 70,
     "metadata": {},
     "output_type": "execute_result"
    }
   ],
   "source": [
    "Nz2.head()"
   ]
  },
  {
   "cell_type": "code",
   "execution_count": 84,
   "id": "a66304e8-5aa8-47d2-a01a-89c18c05d8bd",
   "metadata": {},
   "outputs": [
    {
     "data": {
      "text/plain": [
       "<seaborn.axisgrid.FacetGrid at 0x2dd11a807c0>"
      ]
     },
     "execution_count": 84,
     "metadata": {},
     "output_type": "execute_result"
    },
    {
     "data": {
      "image/png": "[encoded data removed]",
      "text/plain": [
       "<Figure size 572.125x500 with 1 Axes>"
      ]
     },
     "metadata": {},
     "output_type": "display_data"
    }
   ],
   "source": [
    "sns.relplot(y='unemployment', x='interest_rate', hue='inflation', data=Nz2)"
   ]
  },
  {
   "cell_type": "code",
   "execution_count": 90,
   "id": "85d9d24a-a375-4683-842b-e1af03a7d0fd",
   "metadata": {},
   "outputs": [
    {
     "data": {
      "text/plain": [
       "-0.114267    1\n",
       " 0.292705    1\n",
       " 0.646240    1\n",
       " 1.059913    1\n",
       " 1.134423    1\n",
       " 1.227508    1\n",
       " 1.265244    1\n",
       " 1.598297    1\n",
       " 1.753574    1\n",
       " 1.850788    1\n",
       " 2.115651    1\n",
       " 2.290249    1\n",
       " 2.302024    1\n",
       " 2.376143    1\n",
       " 2.615234    1\n",
       " 2.625816    1\n",
       " 2.677093    1\n",
       " 3.037023    1\n",
       " 3.365402    1\n",
       " 3.958949    1\n",
       " 4.027907    1\n",
       "Name: inflation, dtype: int64"
      ]
     },
     "execution_count": 90,
     "metadata": {},
     "output_type": "execute_result"
    }
   ],
   "source": [
    "Nz2.inflation.value_counts().sort_index()"
   ]
  },
  {
   "cell_type": "code",
   "execution_count": 94,
   "id": "6bc17ec5-385e-472a-bc26-817009e4b1b7",
   "metadata": {},
   "outputs": [],
   "source": [
    "Nz2['inflation_cat']= pd.cut(Nz2.inflation, bins=2 , labels=['low', 'high'])"
   ]
  },
  {
   "cell_type": "code",
   "execution_count": 95,
   "id": "ec298ae7-c389-4d5d-8010-09a2b8d96621",
   "metadata": {},
   "outputs": [
    {
     "data": {
      "text/html": [
       "<div>\n",
       "<style scoped>\n",
       "    .dataframe tbody tr th:only-of-type {\n",
       "        vertical-align: middle;\n",
       "    }\n",
       "\n",
       "    .dataframe tbody tr th {\n",
       "        vertical-align: top;\n",
       "    }\n",
       "\n",
       "    .dataframe thead th {\n",
       "        text-align: right;\n",
       "    }\n",
       "</style>\n",
       "<table border=\"1\" class=\"dataframe\">\n",
       "  <thead>\n",
       "    <tr style=\"text-align: right;\">\n",
       "      <th></th>\n",
       "      <th>inflation</th>\n",
       "      <th>unemployment</th>\n",
       "      <th>interest_rate</th>\n",
       "      <th>inflation_cat</th>\n",
       "    </tr>\n",
       "    <tr>\n",
       "      <th>year</th>\n",
       "      <th></th>\n",
       "      <th></th>\n",
       "      <th></th>\n",
       "      <th></th>\n",
       "    </tr>\n",
       "  </thead>\n",
       "  <tbody>\n",
       "    <tr>\n",
       "      <th>1998</th>\n",
       "      <td>1.265244</td>\n",
       "      <td>7.72</td>\n",
       "      <td>7.793469</td>\n",
       "      <td>low</td>\n",
       "    </tr>\n",
       "    <tr>\n",
       "      <th>1999</th>\n",
       "      <td>-0.114267</td>\n",
       "      <td>7.02</td>\n",
       "      <td>6.503624</td>\n",
       "      <td>low</td>\n",
       "    </tr>\n",
       "    <tr>\n",
       "      <th>2000</th>\n",
       "      <td>2.615234</td>\n",
       "      <td>6.13</td>\n",
       "      <td>4.827071</td>\n",
       "      <td>high</td>\n",
       "    </tr>\n",
       "    <tr>\n",
       "      <th>2001</th>\n",
       "      <td>2.625816</td>\n",
       "      <td>5.43</td>\n",
       "      <td>3.648836</td>\n",
       "      <td>high</td>\n",
       "    </tr>\n",
       "    <tr>\n",
       "      <th>2002</th>\n",
       "      <td>2.677093</td>\n",
       "      <td>5.28</td>\n",
       "      <td>6.817110</td>\n",
       "      <td>high</td>\n",
       "    </tr>\n",
       "  </tbody>\n",
       "</table>\n",
       "</div>"
      ],
      "text/plain": [
       "      inflation  unemployment  interest_rate inflation_cat\n",
       "year                                                      \n",
       "1998   1.265244          7.72       7.793469           low\n",
       "1999  -0.114267          7.02       6.503624           low\n",
       "2000   2.615234          6.13       4.827071          high\n",
       "2001   2.625816          5.43       3.648836          high\n",
       "2002   2.677093          5.28       6.817110          high"
      ]
     },
     "execution_count": 95,
     "metadata": {},
     "output_type": "execute_result"
    }
   ],
   "source": [
    "Nz2.head()"
   ]
  },
  {
   "cell_type": "code",
   "execution_count": 96,
   "id": "1af795a7-636f-4c27-947f-6d73be38ed81",
   "metadata": {},
   "outputs": [
    {
     "data": {
      "text/plain": [
       "<seaborn.axisgrid.FacetGrid at 0x2dd11aa21f0>"
      ]
     },
     "execution_count": 96,
     "metadata": {},
     "output_type": "execute_result"
    },
    {
     "data": {
      "image/png": "[encoded data removed]",
      "text/plain": [
       "<Figure size 596.611x500 with 1 Axes>"
      ]
     },
     "metadata": {},
     "output_type": "display_data"
    }
   ],
   "source": [
    "sns.relplot(y='unemployment', x='interest_rate', hue='inflation_cat', data=Nz2)"
   ]
  },
  {
   "cell_type": "code",
   "execution_count": null,
   "id": "c248d9d3-2c7a-4e90-83d2-377a42a60132",
   "metadata": {},
   "outputs": [],
   "source": []
  }
 ],
 "metadata": {
  "kernelspec": {
   "display_name": "Python 3 (ipykernel)",
   "language": "python",
   "name": "python3"
  },
  "language_info": {
   "codemirror_mode": {
    "name": "ipython",
    "version": 3
   },
   "file_extension": ".py",
   "mimetype": "text/x-python",
   "name": "python",
   "nbconvert_exporter": "python",
   "pygments_lexer": "ipython3",
   "version": "3.9.13"
  }
 },
 "nbformat": 4,
 "nbformat_minor": 5
}
