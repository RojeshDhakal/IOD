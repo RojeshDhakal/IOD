{
 "cells": [
  {
   "cell_type": "code",
   "execution_count": 1,
   "id": "8c378c2a-cf5a-4c90-94ae-7d225a6754bc",
   "metadata": {},
   "outputs": [],
   "source": [
    "import nltk"
   ]
  },
  {
   "cell_type": "code",
   "execution_count": 3,
   "id": "3f096e45-5a13-4434-8630-4ef5c9b213f8",
   "metadata": {},
   "outputs": [],
   "source": [
    "text = \"Once when King Krishnadevaraya had gone to survey the jail, two burglars who were prisoners there, asked for his mercy. They told him that they were experts at burglary and could help the king in catching other thieves.The king being a kind ruler asked his guards to release them but with a condition. He told the burglars that he would release them and appoint them as his spies only if they could break into his advisor Tenali Raman’s house and steal valuables from there. The thieves agreed for the challenge.That same night the two thieves went to Tenali Raman’s house and hid behind some bushes. After dinner, when Tenali Raman came out for a stroll, he heard some rustling in the bushes. He at once perceived the existence of thieves in his garden.\"\n"
   ]
  },
  {
   "cell_type": "code",
   "execution_count": 4,
   "id": "9534210b-599d-4794-b113-b04592d8585e",
   "metadata": {},
   "outputs": [
    {
     "data": {
      "text/plain": [
       "'Once when King Krishnadevaraya had gone to survey the jail, two burglars who were prisoners there, asked for his mercy. They told him that they were experts at burglary and could help the king in catching other thieves.The king being a kind ruler asked his guards to release them but with a condition. He told the burglars that he would release them and appoint them as his spies only if they could break into his advisor Tenali Raman’s house and steal valuables from there. The thieves agreed for the challenge.That same night the two thieves went to Tenali Raman’s house and hid behind some bushes. After dinner, when Tenali Raman came out for a stroll, he heard some rustling in the bushes. He at once perceived the existence of thieves in his garden.'"
      ]
     },
     "execution_count": 4,
     "metadata": {},
     "output_type": "execute_result"
    }
   ],
   "source": [
    "text"
   ]
  },
  {
   "cell_type": "code",
   "execution_count": 6,
   "id": "c383b62f-b4bb-4d0c-96ce-c5b29f1efe4f",
   "metadata": {},
   "outputs": [],
   "source": [
    "text=text.lower()"
   ]
  },
  {
   "cell_type": "code",
   "execution_count": 7,
   "id": "cb231a09-6a89-4adb-9428-31af3359ca06",
   "metadata": {},
   "outputs": [
    {
     "data": {
      "text/plain": [
       "'once when king krishnadevaraya had gone to survey the jail, two burglars who were prisoners there, asked for his mercy. they told him that they were experts at burglary and could help the king in catching other thieves.the king being a kind ruler asked his guards to release them but with a condition. he told the burglars that he would release them and appoint them as his spies only if they could break into his advisor tenali raman’s house and steal valuables from there. the thieves agreed for the challenge.that same night the two thieves went to tenali raman’s house and hid behind some bushes. after dinner, when tenali raman came out for a stroll, he heard some rustling in the bushes. he at once perceived the existence of thieves in his garden.'"
      ]
     },
     "execution_count": 7,
     "metadata": {},
     "output_type": "execute_result"
    }
   ],
   "source": [
    "text"
   ]
  },
  {
   "cell_type": "code",
   "execution_count": 8,
   "id": "c880af45-f064-4be9-b74a-997bd2b0959e",
   "metadata": {},
   "outputs": [],
   "source": [
    "from nltk import sent_tokenize"
   ]
  },
  {
   "cell_type": "code",
   "execution_count": 10,
   "id": "66b0b340-fbcc-432c-a8ab-902c385e4c92",
   "metadata": {},
   "outputs": [
    {
     "name": "stderr",
     "output_type": "stream",
     "text": [
      "[nltk_data] Downloading package punkt to\n",
      "[nltk_data]     C:\\Users\\User\\AppData\\Roaming\\nltk_data...\n",
      "[nltk_data]   Unzipping tokenizers\\punkt.zip.\n"
     ]
    },
    {
     "data": {
      "text/plain": [
       "True"
      ]
     },
     "execution_count": 10,
     "metadata": {},
     "output_type": "execute_result"
    }
   ],
   "source": [
    "nltk.download('punkt')"
   ]
  },
  {
   "cell_type": "markdown",
   "id": "7de9bfd3-330b-497e-b12f-5ea51e4fa60d",
   "metadata": {},
   "source": [
    "## Extracting a sentence from a paragraph"
   ]
  },
  {
   "cell_type": "code",
   "execution_count": 11,
   "id": "fe89eabd-f716-43d9-9f70-02c1353b4b37",
   "metadata": {},
   "outputs": [],
   "source": [
    "sent_text = sent_tokenize(text)"
   ]
  },
  {
   "cell_type": "code",
   "execution_count": 12,
   "id": "7211b1ef-8719-4c81-8554-9062152043c4",
   "metadata": {},
   "outputs": [
    {
     "data": {
      "text/plain": [
       "['once when king krishnadevaraya had gone to survey the jail, two burglars who were prisoners there, asked for his mercy.',\n",
       " 'they told him that they were experts at burglary and could help the king in catching other thieves.the king being a kind ruler asked his guards to release them but with a condition.',\n",
       " 'he told the burglars that he would release them and appoint them as his spies only if they could break into his advisor tenali raman’s house and steal valuables from there.',\n",
       " 'the thieves agreed for the challenge.that same night the two thieves went to tenali raman’s house and hid behind some bushes.',\n",
       " 'after dinner, when tenali raman came out for a stroll, he heard some rustling in the bushes.',\n",
       " 'he at once perceived the existence of thieves in his garden.']"
      ]
     },
     "execution_count": 12,
     "metadata": {},
     "output_type": "execute_result"
    }
   ],
   "source": [
    "sent_text"
   ]
  },
  {
   "cell_type": "markdown",
   "id": "75ca4ad7-f022-4afc-834e-873f196003cb",
   "metadata": {},
   "source": [
    "## Extracting a word from a paragraph"
   ]
  },
  {
   "cell_type": "code",
   "execution_count": 13,
   "id": "a6cf7ddb-db15-4c71-837f-5c04f9eeb3fc",
   "metadata": {},
   "outputs": [
    {
     "name": "stdout",
     "output_type": "stream",
     "text": [
      "['once', 'when', 'king', 'krishnadevaraya', 'had', 'gone', 'to', 'survey', 'the', 'jail', ',', 'two', 'burglars', 'who', 'were', 'prisoners', 'there', ',', 'asked', 'for', 'his', 'mercy', '.']\n",
      "['they', 'told', 'him', 'that', 'they', 'were', 'experts', 'at', 'burglary', 'and', 'could', 'help', 'the', 'king', 'in', 'catching', 'other', 'thieves.the', 'king', 'being', 'a', 'kind', 'ruler', 'asked', 'his', 'guards', 'to', 'release', 'them', 'but', 'with', 'a', 'condition', '.']\n",
      "['he', 'told', 'the', 'burglars', 'that', 'he', 'would', 'release', 'them', 'and', 'appoint', 'them', 'as', 'his', 'spies', 'only', 'if', 'they', 'could', 'break', 'into', 'his', 'advisor', 'tenali', 'raman', '’', 's', 'house', 'and', 'steal', 'valuables', 'from', 'there', '.']\n",
      "['the', 'thieves', 'agreed', 'for', 'the', 'challenge.that', 'same', 'night', 'the', 'two', 'thieves', 'went', 'to', 'tenali', 'raman', '’', 's', 'house', 'and', 'hid', 'behind', 'some', 'bushes', '.']\n",
      "['after', 'dinner', ',', 'when', 'tenali', 'raman', 'came', 'out', 'for', 'a', 'stroll', ',', 'he', 'heard', 'some', 'rustling', 'in', 'the', 'bushes', '.']\n",
      "['he', 'at', 'once', 'perceived', 'the', 'existence', 'of', 'thieves', 'in', 'his', 'garden', '.']\n"
     ]
    }
   ],
   "source": [
    "from nltk import word_tokenize\n",
    "\n",
    "for sent in sent_text:\n",
    "    word_text = word_tokenize(sent)\n",
    "    print(word_text)"
   ]
  },
  {
   "cell_type": "code",
   "execution_count": 14,
   "id": "2e197f6a-bd35-42c1-9771-bd8a9f8ef37d",
   "metadata": {},
   "outputs": [],
   "source": [
    "word_text= word_tokenize(text)"
   ]
  },
  {
   "cell_type": "code",
   "execution_count": 15,
   "id": "1c31cc2f-418a-476a-a37e-3690cc8193de",
   "metadata": {
    "collapsed": true,
    "jupyter": {
     "outputs_hidden": true
    },
    "tags": []
   },
   "outputs": [
    {
     "data": {
      "text/plain": [
       "['once',\n",
       " 'when',\n",
       " 'king',\n",
       " 'krishnadevaraya',\n",
       " 'had',\n",
       " 'gone',\n",
       " 'to',\n",
       " 'survey',\n",
       " 'the',\n",
       " 'jail',\n",
       " ',',\n",
       " 'two',\n",
       " 'burglars',\n",
       " 'who',\n",
       " 'were',\n",
       " 'prisoners',\n",
       " 'there',\n",
       " ',',\n",
       " 'asked',\n",
       " 'for',\n",
       " 'his',\n",
       " 'mercy',\n",
       " '.',\n",
       " 'they',\n",
       " 'told',\n",
       " 'him',\n",
       " 'that',\n",
       " 'they',\n",
       " 'were',\n",
       " 'experts',\n",
       " 'at',\n",
       " 'burglary',\n",
       " 'and',\n",
       " 'could',\n",
       " 'help',\n",
       " 'the',\n",
       " 'king',\n",
       " 'in',\n",
       " 'catching',\n",
       " 'other',\n",
       " 'thieves.the',\n",
       " 'king',\n",
       " 'being',\n",
       " 'a',\n",
       " 'kind',\n",
       " 'ruler',\n",
       " 'asked',\n",
       " 'his',\n",
       " 'guards',\n",
       " 'to',\n",
       " 'release',\n",
       " 'them',\n",
       " 'but',\n",
       " 'with',\n",
       " 'a',\n",
       " 'condition',\n",
       " '.',\n",
       " 'he',\n",
       " 'told',\n",
       " 'the',\n",
       " 'burglars',\n",
       " 'that',\n",
       " 'he',\n",
       " 'would',\n",
       " 'release',\n",
       " 'them',\n",
       " 'and',\n",
       " 'appoint',\n",
       " 'them',\n",
       " 'as',\n",
       " 'his',\n",
       " 'spies',\n",
       " 'only',\n",
       " 'if',\n",
       " 'they',\n",
       " 'could',\n",
       " 'break',\n",
       " 'into',\n",
       " 'his',\n",
       " 'advisor',\n",
       " 'tenali',\n",
       " 'raman',\n",
       " '’',\n",
       " 's',\n",
       " 'house',\n",
       " 'and',\n",
       " 'steal',\n",
       " 'valuables',\n",
       " 'from',\n",
       " 'there',\n",
       " '.',\n",
       " 'the',\n",
       " 'thieves',\n",
       " 'agreed',\n",
       " 'for',\n",
       " 'the',\n",
       " 'challenge.that',\n",
       " 'same',\n",
       " 'night',\n",
       " 'the',\n",
       " 'two',\n",
       " 'thieves',\n",
       " 'went',\n",
       " 'to',\n",
       " 'tenali',\n",
       " 'raman',\n",
       " '’',\n",
       " 's',\n",
       " 'house',\n",
       " 'and',\n",
       " 'hid',\n",
       " 'behind',\n",
       " 'some',\n",
       " 'bushes',\n",
       " '.',\n",
       " 'after',\n",
       " 'dinner',\n",
       " ',',\n",
       " 'when',\n",
       " 'tenali',\n",
       " 'raman',\n",
       " 'came',\n",
       " 'out',\n",
       " 'for',\n",
       " 'a',\n",
       " 'stroll',\n",
       " ',',\n",
       " 'he',\n",
       " 'heard',\n",
       " 'some',\n",
       " 'rustling',\n",
       " 'in',\n",
       " 'the',\n",
       " 'bushes',\n",
       " '.',\n",
       " 'he',\n",
       " 'at',\n",
       " 'once',\n",
       " 'perceived',\n",
       " 'the',\n",
       " 'existence',\n",
       " 'of',\n",
       " 'thieves',\n",
       " 'in',\n",
       " 'his',\n",
       " 'garden',\n",
       " '.']"
      ]
     },
     "execution_count": 15,
     "metadata": {},
     "output_type": "execute_result"
    }
   ],
   "source": [
    "word_text"
   ]
  },
  {
   "cell_type": "markdown",
   "id": "65d42e79-00d1-4985-b8be-6cc92057fc86",
   "metadata": {},
   "source": [
    "## Stop Word Removal"
   ]
  },
  {
   "cell_type": "code",
   "execution_count": 18,
   "id": "dab525bc-c0a1-4537-8f37-3de80edbdebe",
   "metadata": {},
   "outputs": [
    {
     "name": "stderr",
     "output_type": "stream",
     "text": [
      "[nltk_data] Downloading package stopwords to\n",
      "[nltk_data]     C:\\Users\\User\\AppData\\Roaming\\nltk_data...\n",
      "[nltk_data]   Unzipping corpora\\stopwords.zip.\n"
     ]
    },
    {
     "data": {
      "text/plain": [
       "True"
      ]
     },
     "execution_count": 18,
     "metadata": {},
     "output_type": "execute_result"
    }
   ],
   "source": [
    "nltk.download('stopwords')"
   ]
  },
  {
   "cell_type": "code",
   "execution_count": 19,
   "id": "1f89854b-5174-437e-a915-71bd1e9cbdd2",
   "metadata": {},
   "outputs": [],
   "source": [
    "from nltk.corpus import stopwords\n",
    "stopwords_en = stopwords.words('english')"
   ]
  },
  {
   "cell_type": "code",
   "execution_count": 20,
   "id": "f1951d95-d454-4c55-9958-60787d9f4659",
   "metadata": {},
   "outputs": [
    {
     "data": {
      "text/plain": [
       "['i',\n",
       " 'me',\n",
       " 'my',\n",
       " 'myself',\n",
       " 'we',\n",
       " 'our',\n",
       " 'ours',\n",
       " 'ourselves',\n",
       " 'you',\n",
       " \"you're\",\n",
       " \"you've\",\n",
       " \"you'll\",\n",
       " \"you'd\",\n",
       " 'your',\n",
       " 'yours',\n",
       " 'yourself',\n",
       " 'yourselves',\n",
       " 'he',\n",
       " 'him',\n",
       " 'his',\n",
       " 'himself',\n",
       " 'she',\n",
       " \"she's\",\n",
       " 'her',\n",
       " 'hers',\n",
       " 'herself',\n",
       " 'it',\n",
       " \"it's\",\n",
       " 'its',\n",
       " 'itself',\n",
       " 'they',\n",
       " 'them',\n",
       " 'their',\n",
       " 'theirs',\n",
       " 'themselves',\n",
       " 'what',\n",
       " 'which',\n",
       " 'who',\n",
       " 'whom',\n",
       " 'this',\n",
       " 'that',\n",
       " \"that'll\",\n",
       " 'these',\n",
       " 'those',\n",
       " 'am',\n",
       " 'is',\n",
       " 'are',\n",
       " 'was',\n",
       " 'were',\n",
       " 'be',\n",
       " 'been',\n",
       " 'being',\n",
       " 'have',\n",
       " 'has',\n",
       " 'had',\n",
       " 'having',\n",
       " 'do',\n",
       " 'does',\n",
       " 'did',\n",
       " 'doing',\n",
       " 'a',\n",
       " 'an',\n",
       " 'the',\n",
       " 'and',\n",
       " 'but',\n",
       " 'if',\n",
       " 'or',\n",
       " 'because',\n",
       " 'as',\n",
       " 'until',\n",
       " 'while',\n",
       " 'of',\n",
       " 'at',\n",
       " 'by',\n",
       " 'for',\n",
       " 'with',\n",
       " 'about',\n",
       " 'against',\n",
       " 'between',\n",
       " 'into',\n",
       " 'through',\n",
       " 'during',\n",
       " 'before',\n",
       " 'after',\n",
       " 'above',\n",
       " 'below',\n",
       " 'to',\n",
       " 'from',\n",
       " 'up',\n",
       " 'down',\n",
       " 'in',\n",
       " 'out',\n",
       " 'on',\n",
       " 'off',\n",
       " 'over',\n",
       " 'under',\n",
       " 'again',\n",
       " 'further',\n",
       " 'then',\n",
       " 'once',\n",
       " 'here',\n",
       " 'there',\n",
       " 'when',\n",
       " 'where',\n",
       " 'why',\n",
       " 'how',\n",
       " 'all',\n",
       " 'any',\n",
       " 'both',\n",
       " 'each',\n",
       " 'few',\n",
       " 'more',\n",
       " 'most',\n",
       " 'other',\n",
       " 'some',\n",
       " 'such',\n",
       " 'no',\n",
       " 'nor',\n",
       " 'not',\n",
       " 'only',\n",
       " 'own',\n",
       " 'same',\n",
       " 'so',\n",
       " 'than',\n",
       " 'too',\n",
       " 'very',\n",
       " 's',\n",
       " 't',\n",
       " 'can',\n",
       " 'will',\n",
       " 'just',\n",
       " 'don',\n",
       " \"don't\",\n",
       " 'should',\n",
       " \"should've\",\n",
       " 'now',\n",
       " 'd',\n",
       " 'll',\n",
       " 'm',\n",
       " 'o',\n",
       " 're',\n",
       " 've',\n",
       " 'y',\n",
       " 'ain',\n",
       " 'aren',\n",
       " \"aren't\",\n",
       " 'couldn',\n",
       " \"couldn't\",\n",
       " 'didn',\n",
       " \"didn't\",\n",
       " 'doesn',\n",
       " \"doesn't\",\n",
       " 'hadn',\n",
       " \"hadn't\",\n",
       " 'hasn',\n",
       " \"hasn't\",\n",
       " 'haven',\n",
       " \"haven't\",\n",
       " 'isn',\n",
       " \"isn't\",\n",
       " 'ma',\n",
       " 'mightn',\n",
       " \"mightn't\",\n",
       " 'mustn',\n",
       " \"mustn't\",\n",
       " 'needn',\n",
       " \"needn't\",\n",
       " 'shan',\n",
       " \"shan't\",\n",
       " 'shouldn',\n",
       " \"shouldn't\",\n",
       " 'wasn',\n",
       " \"wasn't\",\n",
       " 'weren',\n",
       " \"weren't\",\n",
       " 'won',\n",
       " \"won't\",\n",
       " 'wouldn',\n",
       " \"wouldn't\"]"
      ]
     },
     "execution_count": 20,
     "metadata": {},
     "output_type": "execute_result"
    }
   ],
   "source": [
    "stopwords_en"
   ]
  },
  {
   "cell_type": "code",
   "execution_count": 21,
   "id": "80627bc5-4e74-41b0-9046-2245a8c1d59a",
   "metadata": {},
   "outputs": [],
   "source": [
    "from string import punctuation"
   ]
  },
  {
   "cell_type": "code",
   "execution_count": 22,
   "id": "014126b7-6190-4364-a6c7-7017697d70c1",
   "metadata": {},
   "outputs": [
    {
     "name": "stdout",
     "output_type": "stream",
     "text": [
      "From string punctuation: <class 'str'> !\"#$%&'()*+,-./:;<=>?@[\\]^_`{|}~\n"
     ]
    }
   ],
   "source": [
    "print('From string punctuation:',type(punctuation),punctuation)"
   ]
  },
  {
   "cell_type": "code",
   "execution_count": 23,
   "id": "33cbd8c4-4c36-4ad5-9d16-2c4c954fb079",
   "metadata": {},
   "outputs": [
    {
     "name": "stdout",
     "output_type": "stream",
     "text": [
      "{'if', 'on', 'itself', 'again', 'until', 'more', 'to', 'nor', \"you've\", 'her', 'we', 'than', '#', 'above', 'few', 'hasn', 'at', 'these', 'am', 'o', 'too', \"needn't\", 'in', '.', \"she's\", 'own', 'ourselves', 'so', 'being', 'it', 'will', 'm', ')', 'ours', ',', 'from', 'me', 'don', 'while', 'those', '!', 'where', 'below', 'how', '[', \"couldn't\", '<', 'over', \"it's\", '=', \"mustn't\", '/', 'their', 'theirs', 'which', 'down', 'here', 'were', 'the', 'isn', 'who', 'i', 'wouldn', 'this', 'all', 'now', 'does', 'its', 'haven', 'about', \"you're\", 'yours', \"hadn't\", 'won', 'shan', ';', 're', 'hadn', 'why', 'be', 'against', '|', 'both', 'up', '\\\\', 'them', 'had', 'do', 'during', '*', 'but', \"wasn't\", ']', \"'\", 'should', 'yourselves', 'what', 'then', 'can', 'a', 'and', '{', '?', 'are', \"aren't\", \"don't\", 'once', \"should've\", 'there', 'of', 'same', 'because', '}', '(', \"won't\", 'you', '^', ':', 'very', 'most', 'couldn', 'yourself', \"didn't\", 'my', '\"', 'been', \"haven't\", 'hers', '>', 'needn', 'herself', 'weren', \"weren't\", 'mustn', \"you'd\", '+', \"shan't\", 'have', 'or', \"doesn't\", 't', '~', 'myself', '$', '-', 'mightn', 'himself', \"shouldn't\", 'such', 'ma', '@', 'your', 'our', 'no', 'she', 'll', 'd', 'by', '`', 'they', 'any', 'whom', 'into', 'out', 'y', 'didn', 'after', \"mightn't\", \"wouldn't\", 'between', 'as', 'before', 'an', 'through', 'did', 'with', 'he', '&', 'his', 'for', 'each', 'him', \"isn't\", 'under', 'further', 'ain', 'doesn', 'was', 'other', 'shouldn', 'themselves', 'wasn', 'when', 'is', 'having', 'off', 's', '%', 'just', 'only', 'aren', 've', 'that', \"you'll\", 'has', 'some', 'doing', \"hasn't\", '_', 'not', \"that'll\"}\n"
     ]
    }
   ],
   "source": [
    "stopwords_en = set(stopwords_en)  ## Removing stopword\n",
    "stopwords_en_with_punct = stopwords_en.union(set(punctuation))  ### Combining stopwords and punctuation\n",
    "print(stopwords_en_with_punct)"
   ]
  },
  {
   "cell_type": "code",
   "execution_count": 24,
   "id": "f2cd144b-f133-447b-88e1-87b43a118abd",
   "metadata": {},
   "outputs": [],
   "source": [
    "word_text2 = word_tokenize(text)"
   ]
  },
  {
   "cell_type": "code",
   "execution_count": 25,
   "id": "a216863b-0c7e-4fc6-846d-903ca6c1e4d3",
   "metadata": {},
   "outputs": [
    {
     "data": {
      "text/plain": [
       "['once',\n",
       " 'when',\n",
       " 'king',\n",
       " 'krishnadevaraya',\n",
       " 'had',\n",
       " 'gone',\n",
       " 'to',\n",
       " 'survey',\n",
       " 'the',\n",
       " 'jail',\n",
       " ',',\n",
       " 'two',\n",
       " 'burglars',\n",
       " 'who',\n",
       " 'were',\n",
       " 'prisoners',\n",
       " 'there',\n",
       " ',',\n",
       " 'asked',\n",
       " 'for',\n",
       " 'his',\n",
       " 'mercy',\n",
       " '.',\n",
       " 'they',\n",
       " 'told',\n",
       " 'him',\n",
       " 'that',\n",
       " 'they',\n",
       " 'were',\n",
       " 'experts',\n",
       " 'at',\n",
       " 'burglary',\n",
       " 'and',\n",
       " 'could',\n",
       " 'help',\n",
       " 'the',\n",
       " 'king',\n",
       " 'in',\n",
       " 'catching',\n",
       " 'other',\n",
       " 'thieves.the',\n",
       " 'king',\n",
       " 'being',\n",
       " 'a',\n",
       " 'kind',\n",
       " 'ruler',\n",
       " 'asked',\n",
       " 'his',\n",
       " 'guards',\n",
       " 'to',\n",
       " 'release',\n",
       " 'them',\n",
       " 'but',\n",
       " 'with',\n",
       " 'a',\n",
       " 'condition',\n",
       " '.',\n",
       " 'he',\n",
       " 'told',\n",
       " 'the',\n",
       " 'burglars',\n",
       " 'that',\n",
       " 'he',\n",
       " 'would',\n",
       " 'release',\n",
       " 'them',\n",
       " 'and',\n",
       " 'appoint',\n",
       " 'them',\n",
       " 'as',\n",
       " 'his',\n",
       " 'spies',\n",
       " 'only',\n",
       " 'if',\n",
       " 'they',\n",
       " 'could',\n",
       " 'break',\n",
       " 'into',\n",
       " 'his',\n",
       " 'advisor',\n",
       " 'tenali',\n",
       " 'raman',\n",
       " '’',\n",
       " 's',\n",
       " 'house',\n",
       " 'and',\n",
       " 'steal',\n",
       " 'valuables',\n",
       " 'from',\n",
       " 'there',\n",
       " '.',\n",
       " 'the',\n",
       " 'thieves',\n",
       " 'agreed',\n",
       " 'for',\n",
       " 'the',\n",
       " 'challenge.that',\n",
       " 'same',\n",
       " 'night',\n",
       " 'the',\n",
       " 'two',\n",
       " 'thieves',\n",
       " 'went',\n",
       " 'to',\n",
       " 'tenali',\n",
       " 'raman',\n",
       " '’',\n",
       " 's',\n",
       " 'house',\n",
       " 'and',\n",
       " 'hid',\n",
       " 'behind',\n",
       " 'some',\n",
       " 'bushes',\n",
       " '.',\n",
       " 'after',\n",
       " 'dinner',\n",
       " ',',\n",
       " 'when',\n",
       " 'tenali',\n",
       " 'raman',\n",
       " 'came',\n",
       " 'out',\n",
       " 'for',\n",
       " 'a',\n",
       " 'stroll',\n",
       " ',',\n",
       " 'he',\n",
       " 'heard',\n",
       " 'some',\n",
       " 'rustling',\n",
       " 'in',\n",
       " 'the',\n",
       " 'bushes',\n",
       " '.',\n",
       " 'he',\n",
       " 'at',\n",
       " 'once',\n",
       " 'perceived',\n",
       " 'the',\n",
       " 'existence',\n",
       " 'of',\n",
       " 'thieves',\n",
       " 'in',\n",
       " 'his',\n",
       " 'garden',\n",
       " '.']"
      ]
     },
     "execution_count": 25,
     "metadata": {},
     "output_type": "execute_result"
    }
   ],
   "source": [
    "word_text2"
   ]
  },
  {
   "cell_type": "code",
   "execution_count": 31,
   "id": "78f94832-b4ad-4f44-b82b-259cfea0c3c6",
   "metadata": {},
   "outputs": [],
   "source": [
    "# take-out words that are not stopwords\n",
    "word_text2_filtered = [word for word in word_text2 if word not in stopwords_en_with_punct]"
   ]
  },
  {
   "cell_type": "code",
   "execution_count": 27,
   "id": "0c6d4b51-ce12-4973-abc8-f56d1f154ebe",
   "metadata": {},
   "outputs": [
    {
     "data": {
      "text/plain": [
       "['king',\n",
       " 'krishnadevaraya',\n",
       " 'gone',\n",
       " 'survey',\n",
       " 'jail',\n",
       " 'two',\n",
       " 'burglars',\n",
       " 'prisoners',\n",
       " 'asked',\n",
       " 'mercy',\n",
       " 'told',\n",
       " 'experts',\n",
       " 'burglary',\n",
       " 'could',\n",
       " 'help',\n",
       " 'king',\n",
       " 'catching',\n",
       " 'thieves.the',\n",
       " 'king',\n",
       " 'kind',\n",
       " 'ruler',\n",
       " 'asked',\n",
       " 'guards',\n",
       " 'release',\n",
       " 'condition',\n",
       " 'told',\n",
       " 'burglars',\n",
       " 'would',\n",
       " 'release',\n",
       " 'appoint',\n",
       " 'spies',\n",
       " 'could',\n",
       " 'break',\n",
       " 'advisor',\n",
       " 'tenali',\n",
       " 'raman',\n",
       " '’',\n",
       " 'house',\n",
       " 'steal',\n",
       " 'valuables',\n",
       " 'thieves',\n",
       " 'agreed',\n",
       " 'challenge.that',\n",
       " 'night',\n",
       " 'two',\n",
       " 'thieves',\n",
       " 'went',\n",
       " 'tenali',\n",
       " 'raman',\n",
       " '’',\n",
       " 'house',\n",
       " 'hid',\n",
       " 'behind',\n",
       " 'bushes',\n",
       " 'dinner',\n",
       " 'tenali',\n",
       " 'raman',\n",
       " 'came',\n",
       " 'stroll',\n",
       " 'heard',\n",
       " 'rustling',\n",
       " 'bushes',\n",
       " 'perceived',\n",
       " 'existence',\n",
       " 'thieves',\n",
       " 'garden']"
      ]
     },
     "execution_count": 27,
     "metadata": {},
     "output_type": "execute_result"
    }
   ],
   "source": [
    "word_text2_filtered"
   ]
  },
  {
   "cell_type": "markdown",
   "id": "4fd06359-7085-4169-889f-c5b10ac16a7e",
   "metadata": {},
   "source": [
    "the above sentence doesnot have both stopwords and punctuations which helps us during the preprocessing time."
   ]
  },
  {
   "cell_type": "markdown",
   "id": "31797356-402b-453d-add9-628ad50afdeb",
   "metadata": {},
   "source": [
    "## Stemming & Lemmatization"
   ]
  },
  {
   "cell_type": "markdown",
   "id": "3d60b2a2-d2d0-4171-8021-9ea016052178",
   "metadata": {},
   "source": [
    "##### troubled--> Stemming--> troubl   {chops the words without knowing the context}\n",
    "##### troubled--> Lemmatization-->troubled  {gives the word that has meaning in dictionary or identify the base words}"
   ]
  },
  {
   "cell_type": "markdown",
   "id": "dbf450f8-4259-491f-a543-246d8f4cd6f0",
   "metadata": {},
   "source": [
    "Pass the filtered word which doesnt have stopwords and punctuations in the next steps."
   ]
  },
  {
   "cell_type": "code",
   "execution_count": 28,
   "id": "835b6d6d-90fd-48bb-9db6-fa85660ca87f",
   "metadata": {},
   "outputs": [
    {
     "name": "stdout",
     "output_type": "stream",
     "text": [
      "king\n",
      "krishnadevaraya\n",
      "gone\n",
      "survey\n",
      "jail\n",
      "two\n",
      "burglar\n",
      "prison\n",
      "ask\n",
      "merci\n",
      "told\n",
      "expert\n",
      "burglari\n",
      "could\n",
      "help\n",
      "king\n",
      "catch\n",
      "thieves.th\n",
      "king\n",
      "kind\n",
      "ruler\n",
      "ask\n",
      "guard\n",
      "releas\n",
      "condit\n",
      "told\n",
      "burglar\n",
      "would\n",
      "releas\n",
      "appoint\n",
      "spi\n",
      "could\n",
      "break\n",
      "advisor\n",
      "tenali\n",
      "raman\n",
      "’\n",
      "hous\n",
      "steal\n",
      "valuabl\n",
      "thiev\n",
      "agre\n",
      "challenge.that\n",
      "night\n",
      "two\n",
      "thiev\n",
      "went\n",
      "tenali\n",
      "raman\n",
      "’\n",
      "hous\n",
      "hid\n",
      "behind\n",
      "bush\n",
      "dinner\n",
      "tenali\n",
      "raman\n",
      "came\n",
      "stroll\n",
      "heard\n",
      "rustl\n",
      "bush\n",
      "perceiv\n",
      "exist\n",
      "thiev\n",
      "garden\n"
     ]
    }
   ],
   "source": [
    "from nltk.stem import PorterStemmer\n",
    "\n",
    "stemmer = PorterStemmer()\n",
    "\n",
    "for word in word_text2_filtered:\n",
    "    print(stemmer.stem(word))"
   ]
  },
  {
   "cell_type": "code",
   "execution_count": 30,
   "id": "26020806-45d0-4994-bb9e-9ba25e43d17f",
   "metadata": {},
   "outputs": [
    {
     "name": "stderr",
     "output_type": "stream",
     "text": [
      "[nltk_data] Downloading package wordnet to\n",
      "[nltk_data]     C:\\Users\\User\\AppData\\Roaming\\nltk_data...\n",
      "[nltk_data]   Package wordnet is already up-to-date!\n",
      "[nltk_data] Downloading package omw-1.4 to\n",
      "[nltk_data]     C:\\Users\\User\\AppData\\Roaming\\nltk_data...\n"
     ]
    },
    {
     "name": "stdout",
     "output_type": "stream",
     "text": [
      "king\n",
      "krishnadevaraya\n",
      "gone\n",
      "survey\n",
      "jail\n",
      "two\n",
      "burglar\n",
      "prisoner\n",
      "asked\n",
      "mercy\n",
      "told\n",
      "expert\n",
      "burglary\n",
      "could\n",
      "help\n",
      "king\n",
      "catching\n",
      "thieves.the\n",
      "king\n",
      "kind\n",
      "ruler\n",
      "asked\n",
      "guard\n",
      "release\n",
      "condition\n",
      "told\n",
      "burglar\n",
      "would\n",
      "release\n",
      "appoint\n",
      "spy\n",
      "could\n",
      "break\n",
      "advisor\n",
      "tenali\n",
      "raman\n",
      "’\n",
      "house\n",
      "steal\n",
      "valuable\n",
      "thief\n",
      "agreed\n",
      "challenge.that\n",
      "night\n",
      "two\n",
      "thief\n",
      "went\n",
      "tenali\n",
      "raman\n",
      "’\n",
      "house\n",
      "hid\n",
      "behind\n",
      "bush\n",
      "dinner\n",
      "tenali\n",
      "raman\n",
      "came\n",
      "stroll\n",
      "heard\n",
      "rustling\n",
      "bush\n",
      "perceived\n",
      "existence\n",
      "thief\n",
      "garden\n"
     ]
    }
   ],
   "source": [
    "nltk.download('wordnet')\n",
    "nltk.download('omw-1.4')\n",
    "from nltk.stem import WordNetLemmatizer\n",
    "\n",
    "lemmatizer = WordNetLemmatizer()\n",
    "\n",
    "for word in word_text2_filtered:\n",
    "    print(lemmatizer.lemmatize(word))"
   ]
  },
  {
   "cell_type": "markdown",
   "id": "f026bc52-ad30-4af9-98cf-109d481de1fd",
   "metadata": {},
   "source": [
    "## POS tagging"
   ]
  },
  {
   "cell_type": "markdown",
   "id": "4887ea50-5c06-45c4-be6b-5d88ecdd5f5f",
   "metadata": {},
   "source": [
    "POS tagging is the process of labeling each word in a text with its corresponding part of speech, such as noun, verb, adjective, adverb, etc"
   ]
  },
  {
   "cell_type": "code",
   "execution_count": 32,
   "id": "d65279c0-a017-4a36-96bb-87d1bda6ad2f",
   "metadata": {},
   "outputs": [
    {
     "name": "stderr",
     "output_type": "stream",
     "text": [
      "[nltk_data] Downloading package averaged_perceptron_tagger to\n",
      "[nltk_data]     C:\\Users\\User\\AppData\\Roaming\\nltk_data...\n",
      "[nltk_data]   Unzipping taggers\\averaged_perceptron_tagger.zip.\n"
     ]
    },
    {
     "data": {
      "text/plain": [
       "[('king', 'VBG'),\n",
       " ('krishnadevaraya', 'NN'),\n",
       " ('gone', 'VBN'),\n",
       " ('survey', 'NN'),\n",
       " ('jail', 'NN'),\n",
       " ('two', 'CD'),\n",
       " ('burglars', 'NNS'),\n",
       " ('prisoners', 'NNS'),\n",
       " ('asked', 'VBD'),\n",
       " ('mercy', 'NNS'),\n",
       " ('told', 'VBD'),\n",
       " ('experts', 'NNS'),\n",
       " ('burglary', 'NN'),\n",
       " ('could', 'MD'),\n",
       " ('help', 'VB'),\n",
       " ('king', 'VBG'),\n",
       " ('catching', 'VBG'),\n",
       " ('thieves.the', 'JJ'),\n",
       " ('king', 'NN'),\n",
       " ('kind', 'NN'),\n",
       " ('ruler', 'NN'),\n",
       " ('asked', 'VBD'),\n",
       " ('guards', 'NNS'),\n",
       " ('release', 'NN'),\n",
       " ('condition', 'NN'),\n",
       " ('told', 'VBD'),\n",
       " ('burglars', 'NNS'),\n",
       " ('would', 'MD'),\n",
       " ('release', 'VB'),\n",
       " ('appoint', 'NN'),\n",
       " ('spies', 'NNS'),\n",
       " ('could', 'MD'),\n",
       " ('break', 'VB'),\n",
       " ('advisor', 'JJ'),\n",
       " ('tenali', 'JJ'),\n",
       " ('raman', 'NN'),\n",
       " ('’', 'NNP'),\n",
       " ('house', 'NN'),\n",
       " ('steal', 'NN'),\n",
       " ('valuables', 'VBZ'),\n",
       " ('thieves', 'NNS'),\n",
       " ('agreed', 'VBD'),\n",
       " ('challenge.that', 'RB'),\n",
       " ('night', 'NN'),\n",
       " ('two', 'CD'),\n",
       " ('thieves', 'NNS'),\n",
       " ('went', 'VBD'),\n",
       " ('tenali', 'JJ'),\n",
       " ('raman', 'NN'),\n",
       " ('’', 'NNP'),\n",
       " ('house', 'NN'),\n",
       " ('hid', 'NN'),\n",
       " ('behind', 'IN'),\n",
       " ('bushes', 'NNS'),\n",
       " ('dinner', 'VBP'),\n",
       " ('tenali', 'JJ'),\n",
       " ('raman', 'NN'),\n",
       " ('came', 'VBD'),\n",
       " ('stroll', 'RB'),\n",
       " ('heard', 'VBN'),\n",
       " ('rustling', 'VBG'),\n",
       " ('bushes', 'NNS'),\n",
       " ('perceived', 'VBD'),\n",
       " ('existence', 'NN'),\n",
       " ('thieves', 'NNS'),\n",
       " ('garden', 'VBP')]"
      ]
     },
     "execution_count": 32,
     "metadata": {},
     "output_type": "execute_result"
    }
   ],
   "source": [
    "nltk.download('averaged_perceptron_tagger')\n",
    "tagged_text = nltk.pos_tag(word_text2_filtered)\n",
    "tagged_text"
   ]
  },
  {
   "cell_type": "markdown",
   "id": "3ff0d512-6cc3-4a41-b3c2-ee17df8bb03d",
   "metadata": {},
   "source": [
    "## Named Entity Recognition"
   ]
  },
  {
   "cell_type": "code",
   "execution_count": 34,
   "id": "db9e1513-bc6d-4dfc-ba5b-4370988c19cf",
   "metadata": {},
   "outputs": [
    {
     "name": "stderr",
     "output_type": "stream",
     "text": [
      "[nltk_data] Downloading package maxent_ne_chunker to\n",
      "[nltk_data]     C:\\Users\\User\\AppData\\Roaming\\nltk_data...\n",
      "[nltk_data]   Unzipping chunkers\\maxent_ne_chunker.zip.\n"
     ]
    },
    {
     "data": {
      "text/plain": [
       "True"
      ]
     },
     "execution_count": 34,
     "metadata": {},
     "output_type": "execute_result"
    }
   ],
   "source": [
    "nltk.download('maxent_ne_chunker')"
   ]
  },
  {
   "cell_type": "code",
   "execution_count": 36,
   "id": "cb422fc0-7b5b-4bad-bf8d-9c09ea79c902",
   "metadata": {},
   "outputs": [
    {
     "name": "stderr",
     "output_type": "stream",
     "text": [
      "[nltk_data] Downloading package words to\n",
      "[nltk_data]     C:\\Users\\User\\AppData\\Roaming\\nltk_data...\n",
      "[nltk_data]   Unzipping corpora\\words.zip.\n"
     ]
    },
    {
     "data": {
      "text/plain": [
       "True"
      ]
     },
     "execution_count": 36,
     "metadata": {},
     "output_type": "execute_result"
    }
   ],
   "source": [
    "nltk.download('words')"
   ]
  },
  {
   "cell_type": "code",
   "execution_count": 37,
   "id": "08807b26-a059-48e1-9877-fc34c63b26ec",
   "metadata": {},
   "outputs": [
    {
     "name": "stdout",
     "output_type": "stream",
     "text": [
      "(S\n",
      "  king/VBG\n",
      "  krishnadevaraya/NN\n",
      "  gone/VBN\n",
      "  survey/NN\n",
      "  jail/NN\n",
      "  two/CD\n",
      "  burglars/NNS\n",
      "  prisoners/NNS\n",
      "  asked/VBD\n",
      "  mercy/NNS\n",
      "  told/VBD\n",
      "  experts/NNS\n",
      "  burglary/NN\n",
      "  could/MD\n",
      "  help/VB\n",
      "  king/VBG\n",
      "  catching/VBG\n",
      "  thieves.the/JJ\n",
      "  king/NN\n",
      "  kind/NN\n",
      "  ruler/NN\n",
      "  asked/VBD\n",
      "  guards/NNS\n",
      "  release/NN\n",
      "  condition/NN\n",
      "  told/VBD\n",
      "  burglars/NNS\n",
      "  would/MD\n",
      "  release/VB\n",
      "  appoint/NN\n",
      "  spies/NNS\n",
      "  could/MD\n",
      "  break/VB\n",
      "  advisor/JJ\n",
      "  tenali/JJ\n",
      "  raman/NN\n",
      "  ’/NNP\n",
      "  house/NN\n",
      "  steal/NN\n",
      "  valuables/VBZ\n",
      "  thieves/NNS\n",
      "  agreed/VBD\n",
      "  challenge.that/RB\n",
      "  night/NN\n",
      "  two/CD\n",
      "  thieves/NNS\n",
      "  went/VBD\n",
      "  tenali/JJ\n",
      "  raman/NN\n",
      "  ’/NNP\n",
      "  house/NN\n",
      "  hid/NN\n",
      "  behind/IN\n",
      "  bushes/NNS\n",
      "  dinner/VBP\n",
      "  tenali/JJ\n",
      "  raman/NN\n",
      "  came/VBD\n",
      "  stroll/RB\n",
      "  heard/VBN\n",
      "  rustling/VBG\n",
      "  bushes/NNS\n",
      "  perceived/VBD\n",
      "  existence/NN\n",
      "  thieves/NNS\n",
      "  garden/VBP)\n"
     ]
    }
   ],
   "source": [
    "ne_chunked = nltk.ne_chunk(tagged_text)\n",
    "print(ne_chunked)"
   ]
  },
  {
   "cell_type": "code",
   "execution_count": 38,
   "id": "7c9be2a2-33d9-4329-84d6-a4534b7b623f",
   "metadata": {},
   "outputs": [
    {
     "name": "stdout",
     "output_type": "stream",
     "text": [
      "[]\n"
     ]
    }
   ],
   "source": [
    "named_entities = []\n",
    "\n",
    "for tagged_tree in ne_chunked:\n",
    "    if hasattr(tagged_tree , 'label'):\n",
    "        entity_name =' '.join(c[0] for c in tagged_tree.leaves())\n",
    "        entity_type = tagged_tree.label()\n",
    "        named_entities.append((entity_name,entity_type))\n",
    "\n",
    "\n",
    "print(named_entities)"
   ]
  },
  {
   "cell_type": "code",
   "execution_count": 39,
   "id": "df3bad95-f080-4f80-b641-a40aa7a8fc44",
   "metadata": {},
   "outputs": [
    {
     "name": "stdout",
     "output_type": "stream",
     "text": [
      "[('Sundar', 'GPE'), ('CEO of Google', 'ORGANIZATION'), ('American', 'GPE')]\n"
     ]
    }
   ],
   "source": [
    "text3 = 'Sundar is the CEO of Google is an American company.'\n",
    "\n",
    "tokenised = nltk.word_tokenize(text3)\n",
    "tagged_text3 = nltk.pos_tag(tokenised)\n",
    "\n",
    "ne_chunked = nltk.ne_chunk(tagged_text3)\n",
    "\n",
    "named_entities = []\n",
    "\n",
    "for tagged_tree in ne_chunked:\n",
    "    if hasattr(tagged_tree , 'label'):\n",
    "        entity_name =' '.join(c[0] for c in tagged_tree.leaves())\n",
    "        entity_type = tagged_tree.label()\n",
    "        named_entities.append((entity_name,entity_type))\n",
    "        \n",
    "print(named_entities)"
   ]
  },
  {
   "cell_type": "code",
   "execution_count": 45,
   "id": "27097a03-222e-46c2-b485-8cf4900ab6c3",
   "metadata": {},
   "outputs": [
    {
     "name": "stdout",
     "output_type": "stream",
     "text": [
      "[('Rojesh', 'GPE'), ('CEO', 'ORGANIZATION'), ('New Zealand', 'GPE')]\n"
     ]
    }
   ],
   "source": [
    "text3 = 'Rojesh is the CEO  in an New Zealand company.'\n",
    "\n",
    "tokenised = nltk.word_tokenize(text3)\n",
    "tagged_text3 = nltk.pos_tag(tokenised)\n",
    "\n",
    "ne_chunked = nltk.ne_chunk(tagged_text3)\n",
    "\n",
    "named_entities = []\n",
    "\n",
    "for tagged_tree in ne_chunked:\n",
    "    if hasattr(tagged_tree , 'label'):\n",
    "        entity_name =' '.join(c[0] for c in tagged_tree.leaves())\n",
    "        entity_type = tagged_tree.label()\n",
    "        named_entities.append((entity_name,entity_type))\n",
    "        \n",
    "print(named_entities)"
   ]
  },
  {
   "cell_type": "code",
   "execution_count": null,
   "id": "2307db11-8df1-47e5-9af8-3118df174fbc",
   "metadata": {},
   "outputs": [],
   "source": []
  }
 ],
 "metadata": {
  "kernelspec": {
   "display_name": "Python 3 (ipykernel)",
   "language": "python",
   "name": "python3"
  },
  "language_info": {
   "codemirror_mode": {
    "name": "ipython",
    "version": 3
   },
   "file_extension": ".py",
   "mimetype": "text/x-python",
   "name": "python",
   "nbconvert_exporter": "python",
   "pygments_lexer": "ipython3",
   "version": "3.9.13"
  }
 },
 "nbformat": 4,
 "nbformat_minor": 5
}
